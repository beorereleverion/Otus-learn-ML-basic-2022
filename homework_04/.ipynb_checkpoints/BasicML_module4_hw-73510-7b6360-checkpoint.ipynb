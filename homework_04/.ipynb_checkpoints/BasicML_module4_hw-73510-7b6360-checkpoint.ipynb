{
 "cells": [
  {
   "cell_type": "markdown",
   "metadata": {},
   "source": [
    "## Basic ML Homework\n",
    "### Модуль 4: Теоретический минимум для ML: линейная алгебра, начала мат.анализа"
   ]
  },
  {
   "cell_type": "markdown",
   "metadata": {},
   "source": [
    "## 1. Линейная алгебра"
   ]
  },
  {
   "cell_type": "markdown",
   "metadata": {},
   "source": [
    "1.1 Даны матрицы $A = \\begin{pmatrix}\n",
    "2 & −4 \\\\\n",
    "3 & 5 \\\\\n",
    "−1 & 0 \n",
    "\\end{pmatrix},\n",
    "$\n",
    "$B = \\begin{pmatrix}1 & 2 & 7 \\\\ −3 & −4 & 0 \\\\ 5 & 2 & 1 \\end{pmatrix}$, $C = \\begin{pmatrix}\n",
    "6 & −3 & 9 \\\\\n",
    "4 & −5 & 2 \\\\\n",
    "8 & 1 & 5\n",
    "\\end{pmatrix}.$\n",
    "\n",
    "Посчитайте матрицу $D = A^{\\top}C - 2A^{\\top}B^{\\top}$. Приведите полную последовательность вычислений."
   ]
  },
  {
   "cell_type": "markdown",
   "metadata": {},
   "source": [
    "Решение:\n",
    "\n",
    "$A^{\\top}=\\begin{pmatrix}\n",
    "2&3&-1\\\\\n",
    "-4&5&0\n",
    "\\end{pmatrix}$\n",
    "\n",
    "$B^{\\top}=\\begin{pmatrix}\n",
    "1&-3&5\\\\\n",
    "2&-4&2\\\\\n",
    "1&0&1\n",
    "\\end{pmatrix}$\n",
    "\n",
    "$D = A^{\\top}C - 2A^{\\top}B^{\\top}$=\n",
    "$A^{\\top}=\\begin{pmatrix}\n",
    "2&3&-1\\\\\n",
    "-4&5&0\n",
    "\\end{pmatrix}$*$\\begin{pmatrix}\n",
    "6 & −3 & 9 \\\\\n",
    "4 & −5 & 2 \\\\\n",
    "8 & 1 & 5\n",
    "\\end{pmatrix}$-2$\\begin{pmatrix}\n",
    "2&3&-1\\\\\n",
    "-4&5&0\n",
    "\\end{pmatrix}$\n",
    "$\\begin{pmatrix}\n",
    "1&-3&5\\\\\n",
    "2&-4&2\\\\\n",
    "1&0&1\n",
    "\\end{pmatrix}$=$\\begin{pmatrix}\n",
    "12+12-8&-6-16-1&18+6-5\\\\\n",
    "-24+20&12-25&-36+10\n",
    "\\end{pmatrix}$-$\\begin{pmatrix}\n",
    "4&6&-2\\\\\n",
    "-8&10&0\n",
    "\\end{pmatrix}$$\\begin{pmatrix}\n",
    "1&-3&5\\\\\n",
    "2&-4&2\\\\\n",
    "1&0&1\n",
    "\\end{pmatrix}$=$\\begin{pmatrix}\n",
    "16&-22&19\\\\\n",
    "-4&-13&-26\n",
    "\\end{pmatrix}$-$\\begin{pmatrix}\n",
    "4+12-2&-12-24&20+12-2\\\\\n",
    "-8+20&24-40&-40+20\n",
    "\\end{pmatrix}$=$\\begin{pmatrix}\n",
    "16&-22&19\\\\\n",
    "-4&-13&-26\n",
    "\\end{pmatrix}$-$\\begin{pmatrix}\n",
    "14&-36&30\\\\\n",
    "12&-16&-20\n",
    "\\end{pmatrix}$=$\\begin{pmatrix}\n",
    "2&14&-11\\\\\n",
    "-16&3&-6\n",
    "\\end{pmatrix}$\n",
    "\n",
    "Ответ:\n",
    "\n",
    "$\\begin{pmatrix}\n",
    "2&14&-11\\\\\n",
    "-16&3&-6\n",
    "\\end{pmatrix}$"
   ]
  },
  {
   "cell_type": "markdown",
   "metadata": {},
   "source": [
    "1.2 Дано:\n",
    "\n",
    "$ 3 \\cdot \\begin{pmatrix} x & 2 & 3 \\\\ −1 & y & 4 \\end{pmatrix} +\n",
    "2 \\cdot \\begin{pmatrix} 1 & 2 & −5 \\\\ 2 & −6 & z \\end{pmatrix} =\n",
    "\\begin{pmatrix}\n",
    "8 & v & −1 \\\\\n",
    "1 & 6 & 4 \\end{pmatrix}. $\n",
    "\n",
    "Найдите значения $x$, $y$, $z$, и $v$."
   ]
  },
  {
   "cell_type": "code",
   "execution_count": 14,
   "metadata": {},
   "outputs": [
    {
     "ename": "SyntaxError",
     "evalue": "invalid syntax (1740740656.py, line 1)",
     "output_type": "error",
     "traceback": [
      "\u001b[0;36m  Input \u001b[0;32mIn [14]\u001b[0;36m\u001b[0m\n\u001b[0;31m    Решение:\u001b[0m\n\u001b[0m            ^\u001b[0m\n\u001b[0;31mSyntaxError\u001b[0m\u001b[0;31m:\u001b[0m invalid syntax\n"
     ]
    }
   ],
   "source": [
    "Решение:\n",
    "$ 3\\begin{pmatrix}\n",
    "x&2&3\\\\\n",
    "−1&y&4\n",
    "\\end{pmatrix}$+$2\\begin{pmatrix}\n",
    "1&2&−5\n",
    "\\\\2&−6&z\n",
    "\\end{pmatrix}$=$\\begin{pmatrix}\n",
    "8&v&−1\\\\\n",
    "1&6&4\n",
    "\\end{pmatrix}$"
   ]
  },
  {
   "cell_type": "markdown",
   "metadata": {},
   "source": [
    "1.3 На множестве $\\mathbf{M}$ всех упорядоченных пар $(u; v)$ положительных чисел операции сложения и умножения введены\n",
    "следующим образом:\n",
    "\n",
    "$$\n",
    "(u_1; v_1) + (u_2; v_2) = (u_1 \\cdot u_2; v_1 \\cdot v_2); \n",
    "λ(u; v) = (u^{\\lambda}; v^{\\lambda}),\n",
    "$$\n",
    "\n",
    "где $\\lambda$ – вещественное число. Докажите, что при этом множество $\\mathbf{M}$ становится линейным пространством. Выясните: а) какая пара играет роль нулевого элемента; б) какая пара является противоположной паре $(u; v)$; в) укажите размерность этого пространства и какой-нибудь его базис."
   ]
  },
  {
   "cell_type": "markdown",
   "metadata": {},
   "source": [
    "1.4 Докажите, что множество всех квадратных матриц второго порядка с известными операциями сложения и умножения на число образуют четырехмерное линейное пространство. Укажите какой-нибудь базис этого пространства."
   ]
  },
  {
   "cell_type": "markdown",
   "metadata": {},
   "source": [
    "1.5 Укажите те значения параметров $p$ и $q$, при которых\n",
    "ранг матрицы $A = \\begin{pmatrix} 1 & 2 & 3 \\\\ 3 & 6 & p \\\\ 5 & 10 & q \\end{pmatrix}$ равен единице."
   ]
  },
  {
   "cell_type": "markdown",
   "metadata": {},
   "source": [
    "1.6 Относительно канонического базиса в $\\mathbb{R}^2$ даны три вектора $f_1 = (2, −5)$, $f_2 = (−1, 3)$, $x = (1, −4)$. Докажите, что векторы $f_1$ и $f_2$ можно принять за новый базис, и найдите координаты вектора $x$ в этом базисе"
   ]
  },
  {
   "cell_type": "markdown",
   "metadata": {},
   "source": [
    "1.7 Предположим, что существует линейный оператор, выраженный в базисе $(e_1, e_2)$ в виде матрицы $A = \\begin{pmatrix} 1 & 0 \\\\ 0 & 2 \\end{pmatrix}$. Найдите матрицу данного оператора в базисе из векторов $(\\tilde{e}_1, \\tilde{e}_2)$, если:\n",
    "\n",
    "$$\n",
    "\\begin{cases}\n",
    "\\tilde{e}_1 = -2e_1 + 5e_2 \\\\\n",
    "\\tilde{e}_2 = -e_1 + 2e_2\n",
    "\\end{cases}.\n",
    "$$"
   ]
  },
  {
   "cell_type": "markdown",
   "metadata": {},
   "source": [
    "## 2. Начала математического анализа"
   ]
  },
  {
   "cell_type": "markdown",
   "metadata": {},
   "source": [
    "1. Найти матрицу Гессе следующей функции:\n",
    "$$\n",
    "    f(x,y) = x^3 - 2xy + y^2 - 3x - 2y.\n",
    "$$\n",
    "\n",
    "    Доп.задание (явно в курсе не обсуждалось): найдите точки локального экстремума функции $f$."
   ]
  },
  {
   "cell_type": "markdown",
   "metadata": {},
   "source": [
    "2. Проверьте, что функция $f = \\ln(\\sqrt{x} + \\sqrt{y})$ удовлетворяет уравнению:\n",
    "\n",
    "$$\n",
    "x \\frac{\\partial f}{\\partial x} + y \\frac{\\partial f}{\\partial y} = \\frac{1}{2}.\n",
    "$$"
   ]
  },
  {
   "cell_type": "markdown",
   "metadata": {},
   "source": [
    "3. Используя правило для вычисления производной сложной функции, найдите полный дифференциал $\\frac{df}{dt}$, если $$f = e^{xy}\\ln(x+y), \\quad x = 2t^2, \\quad y = 1 - 2t^2 .$$"
   ]
  },
  {
   "cell_type": "markdown",
   "metadata": {},
   "source": [
    "4. Предположим, задана функция $f: \\mathbb{R}^3 \\rightarrow \\mathbb{R}^2$\n",
    "\n",
    "$$\n",
    "    f(x,y,z) = (x+y+z, xyz).\n",
    "$$\n",
    "\n",
    "   Найдите матрицу Якоби функции $f$, и её численное значение в точке $v = (1, 2, 3)$."
   ]
  },
  {
   "cell_type": "code",
   "execution_count": null,
   "metadata": {},
   "outputs": [],
   "source": []
  }
 ],
 "metadata": {
  "kernelspec": {
   "display_name": "Python 3 (ipykernel)",
   "language": "python",
   "name": "python3"
  },
  "language_info": {
   "codemirror_mode": {
    "name": "ipython",
    "version": 3
   },
   "file_extension": ".py",
   "mimetype": "text/x-python",
   "name": "python",
   "nbconvert_exporter": "python",
   "pygments_lexer": "ipython3",
   "version": "3.10.4"
  }
 },
 "nbformat": 4,
 "nbformat_minor": 2
}
