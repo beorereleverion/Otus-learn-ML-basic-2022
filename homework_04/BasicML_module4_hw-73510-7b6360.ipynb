{
 "cells": [
  {
   "cell_type": "markdown",
   "metadata": {},
   "source": [
    "## Basic ML Homework\n",
    "### Модуль 4: Теоретический минимум для ML: линейная алгебра, начала мат.анализа"
   ]
  },
  {
   "cell_type": "markdown",
   "metadata": {},
   "source": [
    "## 1. Линейная алгебра"
   ]
  },
  {
   "cell_type": "markdown",
   "metadata": {},
   "source": [
    "1.1 Даны матрицы $A = \\begin{pmatrix}\n",
    "2 & −4 \\\\\n",
    "3 & 5 \\\\\n",
    "−1 & 0 \n",
    "\\end{pmatrix},\n",
    "$\n",
    "$B = \\begin{pmatrix}1 & 2 & 7 \\\\ −3 & −4 & 0 \\\\ 5 & 2 & 1 \\end{pmatrix}$, $C = \\begin{pmatrix}\n",
    "6 & −3 & 9 \\\\\n",
    "4 & −5 & 2 \\\\\n",
    "8 & 1 & 5\n",
    "\\end{pmatrix}.$\n",
    "\n",
    "Посчитайте матрицу $D = A^{\\top}C - 2A^{\\top}B^{\\top}$. Приведите полную последовательность вычислений."
   ]
  },
  {
   "cell_type": "markdown",
   "metadata": {},
   "source": [
    "Решение:\n",
    "\n",
    "$A^{\\top}=\\begin{pmatrix}\n",
    "2&3&-1\\\\\n",
    "-4&5&0\n",
    "\\end{pmatrix}$\n",
    "\n",
    "$B^{\\top}=\\begin{pmatrix}\n",
    "1&-3&5\\\\\n",
    "2&-4&2\\\\\n",
    "1&0&1\n",
    "\\end{pmatrix}$\n",
    "\n",
    "$D = A^{\\top}C - 2A^{\\top}B^{\\top}$=\n",
    "$A^{\\top}=\\begin{pmatrix}\n",
    "2&3&-1\\\\\n",
    "-4&5&0\n",
    "\\end{pmatrix}$*$\\begin{pmatrix}\n",
    "6 & −3 & 9 \\\\\n",
    "4 & −5 & 2 \\\\\n",
    "8 & 1 & 5\n",
    "\\end{pmatrix}$-2$\\begin{pmatrix}\n",
    "2&3&-1\\\\\n",
    "-4&5&0\n",
    "\\end{pmatrix}$\n",
    "$\\begin{pmatrix}\n",
    "1&-3&5\\\\\n",
    "2&-4&2\\\\\n",
    "1&0&1\n",
    "\\end{pmatrix}$=$\\begin{pmatrix}\n",
    "12+12-8&-6-16-1&18+6-5\\\\\n",
    "-24+20&12-25&-36+10\n",
    "\\end{pmatrix}$-$\\begin{pmatrix}\n",
    "4&6&-2\\\\\n",
    "-8&10&0\n",
    "\\end{pmatrix}$$\\begin{pmatrix}\n",
    "1&-3&5\\\\\n",
    "2&-4&2\\\\\n",
    "1&0&1\n",
    "\\end{pmatrix}$=$\\begin{pmatrix}\n",
    "16&-22&19\\\\\n",
    "-4&-13&-26\n",
    "\\end{pmatrix}$-$\\begin{pmatrix}\n",
    "4+12-2&-12-24&20+12-2\\\\\n",
    "-8+20&24-40&-40+20\n",
    "\\end{pmatrix}$=$\\begin{pmatrix}\n",
    "16&-22&19\\\\\n",
    "-4&-13&-26\n",
    "\\end{pmatrix}$-$\\begin{pmatrix}\n",
    "14&-36&30\\\\\n",
    "12&-16&-20\n",
    "\\end{pmatrix}$=$\\begin{pmatrix}\n",
    "2&14&-11\\\\\n",
    "-16&3&-6\n",
    "\\end{pmatrix}$\n",
    "\n",
    "Ответ:\n",
    "\n",
    "$\\begin{pmatrix}\n",
    "2&14&-11\\\\\n",
    "-16&3&-6\n",
    "\\end{pmatrix}$"
   ]
  },
  {
   "cell_type": "markdown",
   "metadata": {},
   "source": [
    "1.2 Дано:\n",
    "\n",
    "$ 3 \\cdot \\begin{pmatrix} x & 2 & 3 \\\\ −1 & y & 4 \\end{pmatrix} +\n",
    "2 \\cdot \\begin{pmatrix} 1 & 2 & −5 \\\\ 2 & −6 & z \\end{pmatrix} =\n",
    "\\begin{pmatrix}\n",
    "8 & v & −1 \\\\\n",
    "1 & 6 & 4 \\end{pmatrix}. $\n",
    "\n",
    "Найдите значения $x$, $y$, $z$, и $v$."
   ]
  },
  {
   "cell_type": "markdown",
   "metadata": {},
   "source": [
    "Решение:\n",
    "\n",
    "$3\\begin{pmatrix}\n",
    "x&2&3\\\\\n",
    "−1&y&4\n",
    "\\end{pmatrix}$+$2\\begin{pmatrix}\n",
    "1&2&−5\n",
    "\\\\2&−6&z\n",
    "\\end{pmatrix}$=$\\begin{pmatrix}\n",
    "8&v&−1\\\\\n",
    "1&6&4\n",
    "\\end{pmatrix}$\n",
    "\n",
    "$\\begin{pmatrix}\n",
    "3x+2&6+4&9-10\\\\\n",
    "-3+4&3y-12&12+2z\n",
    "\\end{pmatrix}$=$\\begin{pmatrix}\n",
    "8&v&−1\\\\\n",
    "1&6&4\n",
    "\\end{pmatrix}$\n",
    "\n",
    "$\\begin{pmatrix}\n",
    "3x+2&10&-1\\\\\n",
    "1&3y-12&12+2z\n",
    "\\end{pmatrix}$=$\\begin{pmatrix}\n",
    "8&v&−1\\\\\n",
    "1&6&4\n",
    "\\end{pmatrix}$\n",
    "\n",
    "v=10\n",
    "\n",
    "3x+2=8\n",
    "\n",
    "x=2\n",
    "\n",
    "3y-12=6\n",
    "\n",
    "y=6\n",
    "\n",
    "12+2z=4\n",
    "\n",
    "z=-4\n",
    "\n",
    "Ответ: v=10;x=2;y=6;z=-4"
   ]
  },
  {
   "cell_type": "markdown",
   "metadata": {},
   "source": [
    "1.3 На множестве $\\mathbf{M}$ всех упорядоченных пар $(u; v)$ положительных чисел операции сложения и умножения введены\n",
    "следующим образом:\n",
    "\n",
    "$$\n",
    "(u_1; v_1) + (u_2; v_2) = (u_1 \\cdot u_2; v_1 \\cdot v_2); \n",
    "λ(u; v) = (u^{\\lambda}; v^{\\lambda}),\n",
    "$$\n",
    "\n",
    "где $\\lambda$ – вещественное число. Докажите, что при этом множество $\\mathbf{M}$ становится линейным пространством. Выясните: а) какая пара играет роль нулевого элемента; б) какая пара является противоположной паре $(u; v)$; в) укажите размерность этого пространства и какой-нибудь его базис."
   ]
  },
  {
   "cell_type": "markdown",
   "metadata": {},
   "source": [
    "Ответ:\n",
    "\n",
    "a) Так как определена операция сложения векторов, определена операция умножения векторов на скаляр - пространство является линейным\n",
    "\n",
    "б) Нулевым вектором пространства является вектор $(1;1). (u_n; v_n) + (1; 1) = (u_1 \\cdot 1; v_1 \\cdot 1); $\n",
    "\n",
    "в) Размерность пространства равняется двум. Т.к. $(u_1; v_1) + (u_2; v_2) = (u_1 \\cdot u_2; v_1 \\cdot v_2)$, а ге скалярному произведению вектора. \n",
    "$\\begin{pmatrix}\n",
    "u_1&u_2\\\\\n",
    "v_1&v_2\n",
    "\\end{pmatrix}$"
   ]
  },
  {
   "cell_type": "markdown",
   "metadata": {},
   "source": [
    "1.4 Докажите, что множество всех квадратных матриц второго порядка с известными операциями сложения и умножения на число образуют четырехмерное линейное пространство. Укажите какой-нибудь базис этого пространства.\n",
    "\n",
    "Ответ:\n",
    "\n",
    "Подмножетсво - так же является множеством со всеми известными операциями основного множества.\n",
    "\n",
    "$\n",
    "\\begin{pmatrix}\n",
    "1\\\\0\\\\\n",
    "0\\\\0\\end{pmatrix}\n",
    "\\begin{pmatrix}\n",
    "0\\\\1\\\\\n",
    "0\\\\0\\end{pmatrix}\n",
    "\\begin{pmatrix}\n",
    "0\\\\0\\\\\n",
    "1\\\\0\\end{pmatrix}\n",
    "\\begin{pmatrix}\n",
    "0\\\\0\\\\\n",
    "0\\\\1\\end{pmatrix}$"
   ]
  },
  {
   "cell_type": "markdown",
   "metadata": {},
   "source": [
    "1.5 Укажите те значения параметров $p$ и $q$, при которых\n",
    "ранг матрицы $A = \\begin{pmatrix} 1 & 2 & 3 \\\\ 3 & 6 & p \\\\ 5 & 10 & q \\end{pmatrix}$ равен единице."
   ]
  },
  {
   "cell_type": "markdown",
   "metadata": {},
   "source": [
    "Ответ: Rg=1 при p=9 и q=15. Тк x3 и x5 от первой строки соответственно"
   ]
  },
  {
   "cell_type": "markdown",
   "metadata": {},
   "source": [
    "1.6 Относительно канонического базиса в $\\mathbb{R}^2$ даны три вектора $f_1 = (2, −5)$, $f_2 = (−1, 3)$, $x = (1, −4)$. Докажите, что векторы $f_1$ и $f_2$ можно принять за новый базис, и найдите координаты вектора $x$ в этом базисе"
   ]
  },
  {
   "cell_type": "markdown",
   "metadata": {},
   "source": [
    "Решение:\n",
    "$Δ\\begin{vmatrix}\n",
    "2&-1\\\\\n",
    "-5&3\n",
    "\\end{vmatrix}$=6-5=1, т.к. определитель не равен нулю - векторы линейно независимы и их можно принять за новый базис\n",
    "\n",
    "$\\begin{pmatrix}\n",
    "  2 & -1 &\\bigm| &  1\\\\\n",
    "  -5 & 3 &\\bigm| &  -4\n",
    "\\end{pmatrix}\\frac{(1)*0.5}{=>}$\n",
    "$\\begin{pmatrix}\n",
    "  1 & -0.5 &\\bigm| &  0.5\\\\\n",
    "  -5 & 3 &\\bigm| &  -4\n",
    "\\end{pmatrix}\\frac{(2)+5(1)}{=>}$\n",
    "$\\begin{pmatrix}\n",
    "  1 & -0.5 &\\bigm| &  0.5\\\\\n",
    "  0 & 0.5 &\\bigm| &  -1.5\n",
    "\\end{pmatrix}\\frac{(2)/0.5}{=>}$\n",
    "$\\begin{pmatrix}\n",
    "  1 & -0.5 &\\bigm| &  0.5\\\\\n",
    "  0 & 1 &\\bigm| &  -3\n",
    "\\end{pmatrix}\\frac{(1)+0.5(2)}{=>}$\n",
    "$\\begin{pmatrix}\n",
    "  1 & 0 &\\bigm| &  -1\\\\\n",
    "  0 & 1 &\\bigm| &  -3\n",
    "\\end{pmatrix}$\n",
    "\n",
    "x=$-f_1-3f_2$\n",
    "\n",
    "Ответ: x=$-f_1-3f_2$"
   ]
  },
  {
   "cell_type": "markdown",
   "metadata": {},
   "source": [
    "1.7 Предположим, что существует линейный оператор, выраженный в базисе $(e_1, e_2)$ в виде матрицы $A = \\begin{pmatrix} 1 & 0 \\\\ 0 & 2 \\end{pmatrix}$. Найдите матрицу данного оператора в базисе из векторов $(\\tilde{e}_1, \\tilde{e}_2)$, если:\n",
    "\n",
    "$$\n",
    "\\begin{cases}\n",
    "\\tilde{e}_1 = -2e_1 + 5e_2 \\\\\n",
    "\\tilde{e}_2 = -e_1 + 2e_2\n",
    "\\end{cases}.\n",
    "$$"
   ]
  },
  {
   "cell_type": "markdown",
   "metadata": {},
   "source": [
    " Решение:\n",
    " \n",
    " $\\overline{A}=C^{-1}AC$\n",
    "\n",
    " C=$\\begin{pmatrix}\n",
    "-2&5\\\\\n",
    "-1&2\n",
    "\\end{pmatrix}$\n",
    "\n",
    "$C^{-1}=1/1\\begin{pmatrix}\n",
    "2&-5\\\\\n",
    "1&-2\n",
    "\\end{pmatrix}$\n",
    "\n",
    "$\\overline{A}=1/1\\begin{pmatrix}\n",
    "2&-5\\\\\n",
    "1&-2\n",
    "\\end{pmatrix}\\begin{pmatrix} 1 & 0 \\\\ 0 & 2 \\end{pmatrix}\\begin{pmatrix}\n",
    "-2&5\\\\\n",
    "-1&2\n",
    "\\end{pmatrix}$=$\\begin{pmatrix}\n",
    "2&-10\\\\\n",
    "1&-4\\end{pmatrix}\\begin{pmatrix}\n",
    "-2&5\\\\\n",
    "-1&2\\end{pmatrix}$=$\\begin{pmatrix}\n",
    "6&-10\\\\\n",
    "2&-3\\end{pmatrix}$"
   ]
  },
  {
   "cell_type": "markdown",
   "metadata": {},
   "source": [
    "## 2. Начала математического анализа"
   ]
  },
  {
   "cell_type": "markdown",
   "metadata": {},
   "source": [
    "1. Найти матрицу Гессе следующей функции:\n",
    "$$\n",
    "    f(x,y) = x^3 - 2xy + y^2 - 3x - 2y.\n",
    "$$\n",
    "\n",
    "    Доп.задание (явно в курсе не обсуждалось): найдите точки локального экстремума функции $f$."
   ]
  },
  {
   "cell_type": "markdown",
   "metadata": {},
   "source": [
    "Решение:\n",
    "\n",
    "Найдем частные производные.\n",
    "\n",
    "$\\frac{df(x,y)}{dx}=3x^2-2y-3$\n",
    "\n",
    "$\\frac{df(x,y)}{dy}=-2x+2y-2$\n",
    "\n",
    "Решим систему уравнений:\n",
    "\n",
    "$3x^2-2y-3=0$\n",
    "\n",
    "$-2x+2y-2=0$\n",
    "\n",
    "Сложим первое и второе уравнение и вычислим x:\n",
    "\n",
    "$3x^2-2x-5=0$\n",
    "\n",
    "Получаем $x_1=5/3;x_2=-1$\n",
    "\n",
    "Соотвтвественно $y_1=8/3;y_2=0$\n",
    "\n",
    "Количество стационарных точек равно 2.\n",
    "$M_1=(-1;0), M_2=(5/3;8/3)$\n",
    "\n",
    "Найдем частные производные второго порядка.\n",
    "\n",
    "$\\frac{d^2f(x,y)}{dxdy}=-2$\n",
    "\n",
    "$\\frac{d^2f(x,y)}{dx^2}=6x$\n",
    "\n",
    "$\\frac{d^2f(x,y)}{dy^2}=2$\n",
    "\n",
    "Вычисляем для стационарных точек:\n",
    "$M_1=(-1;0)$\n",
    "$\\frac{d^2f(x,y)}{dxdy}=-2$\n",
    "\n",
    "$\\frac{d^2f(x,y)}{dx^2}=-6$\n",
    "\n",
    "$\\frac{d^2f(x,y)}{dy^2}=2$\n",
    "\n",
    "Матрица гессе:\n",
    "$$\\begin{matrix} -6 & -2 \\\\ -2 & 2 \\end{matrix}$$\n",
    "\n",
    "$Δ=-16<0$, В точке $M_1(-1;0)$ матрица Гессе отрицательно определена и функция является вогнутой.\n",
    "\n",
    "$M_2(5/3;8/3)$\n",
    "\n",
    "$M_1=(-1;0)$\n",
    "$\\frac{d^2f(x,y)}{dxdy}=-2$\n",
    "\n",
    "$\\frac{d^2f(x,y)}{dx^2}=10$\n",
    "\n",
    "$\\frac{d^2f(x,y)}{dy^2}=2$\n",
    "\n",
    "Матрица гессе:\n",
    "$$\\begin{matrix} 10 & -2 \\\\ -2 & 2 \\end{matrix}$$\n",
    "\n",
    "$Δ=16<0$, В точке $M_1(-1;0)$ матрица Гессе положительно и функция является выпуклой. Точка $M_2=(5/3;8/3)$ является точкой минимума."
   ]
  },
  {
   "cell_type": "markdown",
   "metadata": {},
   "source": [
    "2. Проверьте, что функция $f = \\ln(\\sqrt{x} + \\sqrt{y})$ удовлетворяет уравнению:\n",
    "\n",
    "$$\n",
    "x \\frac{\\partial f}{\\partial x} + y \\frac{\\partial f}{\\partial y} = \\frac{1}{2}.\n",
    "$$"
   ]
  },
  {
   "cell_type": "markdown",
   "metadata": {},
   "source": [
    "Решение:\n",
    "\n",
    "$\\frac{\\partial (\\ln(\\sqrt{x} + \\sqrt{y}))}{\\partial x}$=$\\frac{1}{2\\sqrt{x}(\\sqrt{x}+\\sqrt{y})}$\n",
    "\n",
    "$\\frac{\\partial (\\ln(\\sqrt{x} + \\sqrt{y}))}{\\partial y}$=$\\frac{1}{2\\sqrt{y}(\\sqrt{x}+\\sqrt{y})}$\n",
    "\n",
    "$x\\frac{1}{2\\sqrt{x}(\\sqrt{x}+\\sqrt{y})}+y\\frac{1}{2\\sqrt{y}(\\sqrt{x}+\\sqrt{y})}$=\n",
    "$\\frac{\\sqrt{x}}{2(\\sqrt{x}+\\sqrt{y})}+\\frac{\\sqrt{y}}{2(\\sqrt{x}+\\sqrt{y})}$=\n",
    "$\\frac{\\sqrt{x}+\\sqrt{y}}{2(\\sqrt{x}+\\sqrt{y})}$=\n",
    "$\\frac{1}{2}$"
   ]
  },
  {
   "cell_type": "markdown",
   "metadata": {},
   "source": [
    "3. Используя правило для вычисления производной сложной функции, найдите полный дифференциал $\\frac{df}{dt}$, если $$f = e^{xy}\\ln(x+y), \\quad x = 2t^2, \\quad y = 1 - 2t^2 .$$"
   ]
  },
  {
   "cell_type": "markdown",
   "metadata": {},
   "source": [
    "Решение:\n",
    "\n",
    "$\\frac{df}{dt}$=$\\frac{\\partial f}{\\partial x}\\frac{dx}{dt}$+$\\frac{\\partial f}{\\partial y}\\frac{dy}{dt}$\n",
    "\n",
    "$\\frac{dx}{dt}=4t$\n",
    "$\\frac{dy}{dt}=-4t$\n",
    "\n",
    "$\\frac{\\partial f}{\\partial x}$=$(e^{xy}ln(x+y))'$=$(e^{xy})'ln(x+y)+(ln(x+y))'e^{xy}$=$e^{xy}(xy)'ln(x+y)+\\frac{1}{x+y}(x+y)'e^{xy}$=$ye^{xy}ln(x+y)+\\frac{e^{xy}}{x+y}$\n",
    "\n",
    "$\\frac{\\partial f}{\\partial y}$=$xe^{xy}ln(x+y)+\\frac{e^{xy}}{x+y}$\n",
    "\n",
    "$\\frac{df}{dt}$=$(ye^{xy}ln(x+y)+\\frac{e^{xy}}{x+y})4t$+$(xe^{xy}ln(x+y)+\\frac{e^{xy}}{x+y})(-4t)$"
   ]
  },
  {
   "cell_type": "markdown",
   "metadata": {},
   "source": [
    "4. Предположим, задана функция $f: \\mathbb{R}^3 \\rightarrow \\mathbb{R}^2$\n",
    "\n",
    "$$\n",
    "    f(x,y,z) = (x+y+z, xyz).\n",
    "$$\n",
    "\n",
    "   Найдите матрицу Якоби функции $f$, и её численное значение в точке $v = (1, 2, 3)$."
   ]
  },
  {
   "cell_type": "markdown",
   "metadata": {},
   "source": [
    "Решение:\n",
    "\n",
    "$J = \\begin{pmatrix} \n",
    "\\frac{x+y+z}{dx}&\\frac{x+y+z}{dy}&\\frac{x+y+z}{dz}\\\\\n",
    "\\frac{xyz}{dx}&\\frac{xyz}{dy}&\\frac{xyz}{dz} \\end{pmatrix}$=\n",
    "$\\begin{pmatrix} \n",
    "1&1&1\\\\\n",
    "yz&xz&xy \\end{pmatrix}$\n",
    "\n",
    "Ответ:\n",
    "\n",
    "$\\begin{pmatrix} \n",
    "1&1&1\\\\\n",
    "6&3&2 \\end{pmatrix}$"
   ]
  }
 ],
 "metadata": {
  "kernelspec": {
   "display_name": "Python 3.10.4 64-bit",
   "language": "python",
   "name": "python3"
  },
  "language_info": {
   "codemirror_mode": {
    "name": "ipython",
    "version": 3
   },
   "file_extension": ".py",
   "mimetype": "text/x-python",
   "name": "python",
   "nbconvert_exporter": "python",
   "pygments_lexer": "ipython3",
   "version": "3.10.4"
  },
  "vscode": {
   "interpreter": {
    "hash": "916dbcbb3f70747c44a77c7bcd40155683ae19c65e1c03b4aa3499c5328201f1"
   }
  }
 },
 "nbformat": 4,
 "nbformat_minor": 2
}
