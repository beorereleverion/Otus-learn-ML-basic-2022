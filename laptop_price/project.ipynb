{
 "cells": [
  {
   "cell_type": "code",
   "execution_count": 106,
   "metadata": {},
   "outputs": [],
   "source": [
    "import pandas as pd\n",
    "import numpy as np\n",
    "import seaborn as sns\n",
    "import re\n",
    "import matplotlib.pyplot as plt\n",
    "import warnings\n",
    "import lightgbm as lgb"
   ]
  },
  {
   "cell_type": "code",
   "execution_count": 107,
   "metadata": {},
   "outputs": [],
   "source": [
    "from sklearn.model_selection import train_test_split\n",
    "from sklearn.preprocessing import StandardScaler\n",
    "from sklearn.model_selection import cross_val_score\n",
    "from sklearn.metrics import roc_auc_score\n",
    "from sklearn.ensemble import GradientBoostingRegressor\n",
    "from lightgbm import LGBMRegressor\n",
    "from catboost import CatBoostRegressor\n",
    "from sklearn.linear_model import Ridge\n",
    "from sklearn.linear_model import Lasso\n",
    "from sklearn.linear_model import ElasticNet\n"
   ]
  },
  {
   "cell_type": "code",
   "execution_count": 108,
   "metadata": {},
   "outputs": [],
   "source": [
    "warnings.filterwarnings(\"ignore\")\n",
    "pd.options.display.float_format = '{:,.2f}'.format"
   ]
  },
  {
   "cell_type": "markdown",
   "metadata": {},
   "source": [
    "# подгружаем данные и смотрим на них"
   ]
  },
  {
   "cell_type": "code",
   "execution_count": 109,
   "metadata": {},
   "outputs": [
    {
     "data": {
      "text/html": [
       "<div>\n",
       "<style scoped>\n",
       "    .dataframe tbody tr th:only-of-type {\n",
       "        vertical-align: middle;\n",
       "    }\n",
       "\n",
       "    .dataframe tbody tr th {\n",
       "        vertical-align: top;\n",
       "    }\n",
       "\n",
       "    .dataframe thead th {\n",
       "        text-align: right;\n",
       "    }\n",
       "</style>\n",
       "<table border=\"1\" class=\"dataframe\">\n",
       "  <thead>\n",
       "    <tr style=\"text-align: right;\">\n",
       "      <th></th>\n",
       "      <th>Unnamed: 0</th>\n",
       "      <th>link</th>\n",
       "      <th>name</th>\n",
       "      <th>user rating</th>\n",
       "      <th>Price</th>\n",
       "      <th>Sales Package</th>\n",
       "      <th>Model Number</th>\n",
       "      <th>Part Number</th>\n",
       "      <th>Model Name</th>\n",
       "      <th>Series</th>\n",
       "      <th>...</th>\n",
       "      <th>Security Chip</th>\n",
       "      <th>Inbuilt 4G LTE</th>\n",
       "      <th>Cloud Storage</th>\n",
       "      <th>S-video</th>\n",
       "      <th>Dock Port</th>\n",
       "      <th>Firewire Port</th>\n",
       "      <th>RJ11</th>\n",
       "      <th>Read/Write Speed</th>\n",
       "      <th>EMMC Storage Capacity</th>\n",
       "      <th>Optane Memory</th>\n",
       "    </tr>\n",
       "  </thead>\n",
       "  <tbody>\n",
       "    <tr>\n",
       "      <th>0</th>\n",
       "      <td>0</td>\n",
       "      <td>https://www.flipkart.com/asus-rog-strix-scar-1...</td>\n",
       "      <td>ASUS ROG Strix SCAR 17 Core i9 12th Gen - (32 ...</td>\n",
       "      <td>5.00</td>\n",
       "      <td>?2,34,990</td>\n",
       "      <td>Laptop, Power Adaptor, User Guide, Warranty Do...</td>\n",
       "      <td>G733ZW-LL139WS</td>\n",
       "      <td>90NR08G2-M007S0</td>\n",
       "      <td>G733ZW-LL139WS</td>\n",
       "      <td>ROG Strix SCAR 17</td>\n",
       "      <td>...</td>\n",
       "      <td>NaN</td>\n",
       "      <td>NaN</td>\n",
       "      <td>NaN</td>\n",
       "      <td>NaN</td>\n",
       "      <td>NaN</td>\n",
       "      <td>NaN</td>\n",
       "      <td>NaN</td>\n",
       "      <td>NaN</td>\n",
       "      <td>NaN</td>\n",
       "      <td>NaN</td>\n",
       "    </tr>\n",
       "    <tr>\n",
       "      <th>1</th>\n",
       "      <td>1</td>\n",
       "      <td>https://www.flipkart.com/asus-rog-strix-scar-1...</td>\n",
       "      <td>ASUS ROG Strix SCAR 15 Core i9 12th Gen - (32 ...</td>\n",
       "      <td>NaN</td>\n",
       "      <td>?2,29,990</td>\n",
       "      <td>Laptop, Power Adaptor, User Guide, Warranty Do...</td>\n",
       "      <td>G533ZW-LN136WS</td>\n",
       "      <td>90NR0872-M007L0</td>\n",
       "      <td>G533ZW-LN136WS</td>\n",
       "      <td>ROG Strix SCAR 15</td>\n",
       "      <td>...</td>\n",
       "      <td>NaN</td>\n",
       "      <td>NaN</td>\n",
       "      <td>NaN</td>\n",
       "      <td>NaN</td>\n",
       "      <td>NaN</td>\n",
       "      <td>NaN</td>\n",
       "      <td>NaN</td>\n",
       "      <td>NaN</td>\n",
       "      <td>NaN</td>\n",
       "      <td>NaN</td>\n",
       "    </tr>\n",
       "    <tr>\n",
       "      <th>2</th>\n",
       "      <td>2</td>\n",
       "      <td>https://www.flipkart.com/hp-victus-ryzen-7-oct...</td>\n",
       "      <td>HP Victus Ryzen 7 Octa Core 5800H - (16 GB/512...</td>\n",
       "      <td>NaN</td>\n",
       "      <td>?1,04,091</td>\n",
       "      <td>Laptop, battery, adapter, cables and user manuals</td>\n",
       "      <td>16-e0351AX</td>\n",
       "      <td>552X1PA#ACJ</td>\n",
       "      <td>16-e0351AX</td>\n",
       "      <td>Victus</td>\n",
       "      <td>...</td>\n",
       "      <td>NaN</td>\n",
       "      <td>NaN</td>\n",
       "      <td>NaN</td>\n",
       "      <td>NaN</td>\n",
       "      <td>NaN</td>\n",
       "      <td>NaN</td>\n",
       "      <td>NaN</td>\n",
       "      <td>NaN</td>\n",
       "      <td>NaN</td>\n",
       "      <td>NaN</td>\n",
       "    </tr>\n",
       "    <tr>\n",
       "      <th>3</th>\n",
       "      <td>3</td>\n",
       "      <td>https://www.flipkart.com/lenovo-ideapad-gaming...</td>\n",
       "      <td>Lenovo IdeaPad Gaming 3i Ryzen 7 Octa Core R7-...</td>\n",
       "      <td>NaN</td>\n",
       "      <td>?87,717</td>\n",
       "      <td>Laptop, Power Adaptor, User Guide, Warranty Do...</td>\n",
       "      <td>15ACH6</td>\n",
       "      <td>82K201RSIN</td>\n",
       "      <td>IdeaPad Gaming 3</td>\n",
       "      <td>IdeaPad Gaming 3i</td>\n",
       "      <td>...</td>\n",
       "      <td>NaN</td>\n",
       "      <td>NaN</td>\n",
       "      <td>NaN</td>\n",
       "      <td>NaN</td>\n",
       "      <td>NaN</td>\n",
       "      <td>NaN</td>\n",
       "      <td>NaN</td>\n",
       "      <td>NaN</td>\n",
       "      <td>NaN</td>\n",
       "      <td>NaN</td>\n",
       "    </tr>\n",
       "    <tr>\n",
       "      <th>4</th>\n",
       "      <td>4</td>\n",
       "      <td>https://www.flipkart.com/lenovo-yoga-slim-7-co...</td>\n",
       "      <td>Lenovo Yoga Slim 7 Core i5 11th Gen - (16 GB/5...</td>\n",
       "      <td>NaN</td>\n",
       "      <td>?75,990</td>\n",
       "      <td>Laptop, Adaptor</td>\n",
       "      <td>82A300MBIN</td>\n",
       "      <td>1LS2B001653</td>\n",
       "      <td>Yoga Slim 7 14ITL05</td>\n",
       "      <td>Yoga Slim 7</td>\n",
       "      <td>...</td>\n",
       "      <td>NaN</td>\n",
       "      <td>NaN</td>\n",
       "      <td>NaN</td>\n",
       "      <td>NaN</td>\n",
       "      <td>NaN</td>\n",
       "      <td>NaN</td>\n",
       "      <td>NaN</td>\n",
       "      <td>NaN</td>\n",
       "      <td>NaN</td>\n",
       "      <td>NaN</td>\n",
       "    </tr>\n",
       "  </tbody>\n",
       "</table>\n",
       "<p>5 rows × 98 columns</p>\n",
       "</div>"
      ],
      "text/plain": [
       "   Unnamed: 0                                               link  \\\n",
       "0           0  https://www.flipkart.com/asus-rog-strix-scar-1...   \n",
       "1           1  https://www.flipkart.com/asus-rog-strix-scar-1...   \n",
       "2           2  https://www.flipkart.com/hp-victus-ryzen-7-oct...   \n",
       "3           3  https://www.flipkart.com/lenovo-ideapad-gaming...   \n",
       "4           4  https://www.flipkart.com/lenovo-yoga-slim-7-co...   \n",
       "\n",
       "                                                name  user rating      Price  \\\n",
       "0  ASUS ROG Strix SCAR 17 Core i9 12th Gen - (32 ...         5.00  ?2,34,990   \n",
       "1  ASUS ROG Strix SCAR 15 Core i9 12th Gen - (32 ...          NaN  ?2,29,990   \n",
       "2  HP Victus Ryzen 7 Octa Core 5800H - (16 GB/512...          NaN  ?1,04,091   \n",
       "3  Lenovo IdeaPad Gaming 3i Ryzen 7 Octa Core R7-...          NaN    ?87,717   \n",
       "4  Lenovo Yoga Slim 7 Core i5 11th Gen - (16 GB/5...          NaN    ?75,990   \n",
       "\n",
       "                                       Sales Package    Model Number  \\\n",
       "0  Laptop, Power Adaptor, User Guide, Warranty Do...  G733ZW-LL139WS   \n",
       "1  Laptop, Power Adaptor, User Guide, Warranty Do...  G533ZW-LN136WS   \n",
       "2  Laptop, battery, adapter, cables and user manuals      16-e0351AX   \n",
       "3  Laptop, Power Adaptor, User Guide, Warranty Do...          15ACH6   \n",
       "4                                    Laptop, Adaptor      82A300MBIN   \n",
       "\n",
       "       Part Number           Model Name             Series  ... Security Chip  \\\n",
       "0  90NR08G2-M007S0       G733ZW-LL139WS  ROG Strix SCAR 17  ...           NaN   \n",
       "1  90NR0872-M007L0       G533ZW-LN136WS  ROG Strix SCAR 15  ...           NaN   \n",
       "2      552X1PA#ACJ           16-e0351AX             Victus  ...           NaN   \n",
       "3       82K201RSIN     IdeaPad Gaming 3  IdeaPad Gaming 3i  ...           NaN   \n",
       "4      1LS2B001653  Yoga Slim 7 14ITL05        Yoga Slim 7  ...           NaN   \n",
       "\n",
       "  Inbuilt 4G LTE Cloud Storage S-video Dock Port Firewire Port RJ11  \\\n",
       "0            NaN           NaN     NaN       NaN           NaN  NaN   \n",
       "1            NaN           NaN     NaN       NaN           NaN  NaN   \n",
       "2            NaN           NaN     NaN       NaN           NaN  NaN   \n",
       "3            NaN           NaN     NaN       NaN           NaN  NaN   \n",
       "4            NaN           NaN     NaN       NaN           NaN  NaN   \n",
       "\n",
       "  Read/Write Speed EMMC Storage Capacity Optane Memory  \n",
       "0              NaN                   NaN           NaN  \n",
       "1              NaN                   NaN           NaN  \n",
       "2              NaN                   NaN           NaN  \n",
       "3              NaN                   NaN           NaN  \n",
       "4              NaN                   NaN           NaN  \n",
       "\n",
       "[5 rows x 98 columns]"
      ]
     },
     "execution_count": 109,
     "metadata": {},
     "output_type": "execute_result"
    }
   ],
   "source": [
    "# решаем проблему с кодировкой\n",
    "data = pd.read_csv('complete laptop data0.csv',encoding='unicode_escape')\n",
    "data.head()"
   ]
  },
  {
   "cell_type": "code",
   "execution_count": 110,
   "metadata": {},
   "outputs": [
    {
     "data": {
      "text/plain": [
       "(984, 98)"
      ]
     },
     "execution_count": 110,
     "metadata": {},
     "output_type": "execute_result"
    }
   ],
   "source": [
    "data.shape"
   ]
  },
  {
   "cell_type": "code",
   "execution_count": 111,
   "metadata": {},
   "outputs": [
    {
     "name": "stdout",
     "output_type": "stream",
     "text": [
      "<class 'pandas.core.frame.DataFrame'>\n",
      "RangeIndex: 984 entries, 0 to 983\n",
      "Data columns (total 98 columns):\n",
      " #   Column                             Non-Null Count  Dtype  \n",
      "---  ------                             --------------  -----  \n",
      " 0   Unnamed: 0                         984 non-null    int64  \n",
      " 1   link                               984 non-null    object \n",
      " 2   name                               984 non-null    object \n",
      " 3   user rating                        690 non-null    float64\n",
      " 4   Price                              984 non-null    object \n",
      " 5   Sales Package                      984 non-null    object \n",
      " 6   Model Number                       984 non-null    object \n",
      " 7   Part Number                        984 non-null    object \n",
      " 8   Model Name                         709 non-null    object \n",
      " 9   Series                             787 non-null    object \n",
      " 10  Color                              984 non-null    object \n",
      " 11  Type                               984 non-null    object \n",
      " 12  Suitable For                       984 non-null    object \n",
      " 13  Power Supply                       548 non-null    object \n",
      " 14  Battery Cell                       680 non-null    object \n",
      " 15  MS Office Provided                 984 non-null    object \n",
      " 16  Dedicated Graphic Memory Type      338 non-null    object \n",
      " 17  Dedicated Graphic Memory Capacity  310 non-null    object \n",
      " 18  Processor Brand                    984 non-null    object \n",
      " 19  Processor Name                     984 non-null    object \n",
      " 20  Processor Generation               690 non-null    object \n",
      " 21  SSD                                984 non-null    object \n",
      " 22  SSD Capacity                       876 non-null    object \n",
      " 23  RAM                                984 non-null    object \n",
      " 24  RAM Type                           984 non-null    object \n",
      " 25  Processor Variant                  861 non-null    object \n",
      " 26  Clock Speed                        861 non-null    object \n",
      " 27  Expandable Memory                  383 non-null    object \n",
      " 28  Cache                              761 non-null    object \n",
      " 29  Graphic Processor                  964 non-null    object \n",
      " 30  Number of Cores                    724 non-null    float64\n",
      " 31  OS Architecture                    826 non-null    object \n",
      " 32  Operating System                   984 non-null    object \n",
      " 33  Supported Operating System         489 non-null    object \n",
      " 34  Mic In                             807 non-null    object \n",
      " 35  USB Port                           880 non-null    object \n",
      " 36  HDMI Port                          804 non-null    object \n",
      " 37  Touchscreen                        984 non-null    object \n",
      " 38  Screen Size                        984 non-null    object \n",
      " 39  Screen Resolution                  984 non-null    object \n",
      " 40  Screen Type                        883 non-null    object \n",
      " 41  Speakers                           852 non-null    object \n",
      " 42  Internal Mic                       843 non-null    object \n",
      " 43  Sound Properties                   698 non-null    object \n",
      " 44  Wireless LAN                       868 non-null    object \n",
      " 45  Bluetooth                          980 non-null    object \n",
      " 46  Dimensions                         863 non-null    object \n",
      " 47  Weight                             873 non-null    object \n",
      " 48  Disk Drive                         984 non-null    object \n",
      " 49  Finger Print Sensor                714 non-null    object \n",
      " 50  Keyboard                           883 non-null    object \n",
      " 51  Backlit Keyboard                   816 non-null    object \n",
      " 52  Additional Features                577 non-null    object \n",
      " 53  Warranty Summary                   984 non-null    object \n",
      " 54  Warranty Service Type              984 non-null    object \n",
      " 55  Covered in Warranty                984 non-null    object \n",
      " 56  Not Covered in Warranty            981 non-null    object \n",
      " 57  Domestic Warranty                  814 non-null    object \n",
      " 58  Ethernet                           310 non-null    object \n",
      " 59  Web Camera                         843 non-null    object \n",
      " 60  Pointer Device                     577 non-null    object \n",
      " 61  Included Software                  604 non-null    object \n",
      " 62  Battery Backup                     608 non-null    object \n",
      " 63  Chipset                            138 non-null    object \n",
      " 64  Memory Slots                       300 non-null    object \n",
      " 65  RAM Frequency                      393 non-null    object \n",
      " 66  RJ45                               418 non-null    object \n",
      " 67  Sound Chip                         111 non-null    object \n",
      " 68  Brightness                         12 non-null     object \n",
      " 69  Laptop Bag                         189 non-null    object \n",
      " 70  Other Accessories                  39 non-null     object \n",
      " 71  International Warranty             141 non-null    object \n",
      " 72  Wireless WAN                       62 non-null     object \n",
      " 73  Recovery Options                   32 non-null     object \n",
      " 74  RPM                                93 non-null     float64\n",
      " 75  Hardware Interface                 540 non-null    object \n",
      " 76  Face Recognition                   34 non-null     object \n",
      " 77  System Architecture                566 non-null    object \n",
      " 78  Refresh Rate                       157 non-null    object \n",
      " 79  Antivirus                          131 non-null    object \n",
      " 80  Multi Card Slot                    506 non-null    object \n",
      " 81  Lock Port                          224 non-null    object \n",
      " 82  NFC Support                        41 non-null     object \n",
      " 83  HDD Capacity                       182 non-null    object \n",
      " 84  Stylus Included                    51 non-null     object \n",
      " 85  TGP                                29 non-null     object \n",
      " 86  VGA Port                           91 non-null     object \n",
      " 87  Color Gamut                        4 non-null      object \n",
      " 88  Security Chip                      142 non-null    object \n",
      " 89  Inbuilt 4G LTE                     13 non-null     object \n",
      " 90  Cloud Storage                      1 non-null      object \n",
      " 91  S-video                            16 non-null     object \n",
      " 92  Dock Port                          33 non-null     object \n",
      " 93  Firewire Port                      34 non-null     object \n",
      " 94  RJ11                               41 non-null     object \n",
      " 95  Read/Write Speed                   4 non-null      object \n",
      " 96  EMMC Storage Capacity              24 non-null     object \n",
      " 97  Optane Memory                      6 non-null      object \n",
      "dtypes: float64(3), int64(1), object(94)\n",
      "memory usage: 753.5+ KB\n"
     ]
    }
   ],
   "source": [
    "data.info()"
   ]
  },
  {
   "cell_type": "code",
   "execution_count": 112,
   "metadata": {},
   "outputs": [
    {
     "data": {
      "text/html": [
       "<div>\n",
       "<style scoped>\n",
       "    .dataframe tbody tr th:only-of-type {\n",
       "        vertical-align: middle;\n",
       "    }\n",
       "\n",
       "    .dataframe tbody tr th {\n",
       "        vertical-align: top;\n",
       "    }\n",
       "\n",
       "    .dataframe thead th {\n",
       "        text-align: right;\n",
       "    }\n",
       "</style>\n",
       "<table border=\"1\" class=\"dataframe\">\n",
       "  <thead>\n",
       "    <tr style=\"text-align: right;\">\n",
       "      <th></th>\n",
       "      <th>Vendor</th>\n",
       "      <th>Unnamed: 0</th>\n",
       "      <th>link</th>\n",
       "      <th>name</th>\n",
       "      <th>user rating</th>\n",
       "      <th>Price</th>\n",
       "      <th>Sales Package</th>\n",
       "      <th>Model Number</th>\n",
       "      <th>Part Number</th>\n",
       "      <th>Model Name</th>\n",
       "      <th>...</th>\n",
       "      <th>Security Chip</th>\n",
       "      <th>Inbuilt 4G LTE</th>\n",
       "      <th>Cloud Storage</th>\n",
       "      <th>S-video</th>\n",
       "      <th>Dock Port</th>\n",
       "      <th>Firewire Port</th>\n",
       "      <th>RJ11</th>\n",
       "      <th>Read/Write Speed</th>\n",
       "      <th>EMMC Storage Capacity</th>\n",
       "      <th>Optane Memory</th>\n",
       "    </tr>\n",
       "  </thead>\n",
       "  <tbody>\n",
       "    <tr>\n",
       "      <th>0</th>\n",
       "      <td>ASUS</td>\n",
       "      <td>0</td>\n",
       "      <td>https://www.flipkart.com/asus-rog-strix-scar-1...</td>\n",
       "      <td>ASUS ROG Strix SCAR 17 Core i9 12th Gen - (32 ...</td>\n",
       "      <td>5.00</td>\n",
       "      <td>?2,34,990</td>\n",
       "      <td>Laptop, Power Adaptor, User Guide, Warranty Do...</td>\n",
       "      <td>G733ZW-LL139WS</td>\n",
       "      <td>90NR08G2-M007S0</td>\n",
       "      <td>G733ZW-LL139WS</td>\n",
       "      <td>...</td>\n",
       "      <td>NaN</td>\n",
       "      <td>NaN</td>\n",
       "      <td>NaN</td>\n",
       "      <td>NaN</td>\n",
       "      <td>NaN</td>\n",
       "      <td>NaN</td>\n",
       "      <td>NaN</td>\n",
       "      <td>NaN</td>\n",
       "      <td>NaN</td>\n",
       "      <td>NaN</td>\n",
       "    </tr>\n",
       "    <tr>\n",
       "      <th>1</th>\n",
       "      <td>ASUS</td>\n",
       "      <td>1</td>\n",
       "      <td>https://www.flipkart.com/asus-rog-strix-scar-1...</td>\n",
       "      <td>ASUS ROG Strix SCAR 15 Core i9 12th Gen - (32 ...</td>\n",
       "      <td>NaN</td>\n",
       "      <td>?2,29,990</td>\n",
       "      <td>Laptop, Power Adaptor, User Guide, Warranty Do...</td>\n",
       "      <td>G533ZW-LN136WS</td>\n",
       "      <td>90NR0872-M007L0</td>\n",
       "      <td>G533ZW-LN136WS</td>\n",
       "      <td>...</td>\n",
       "      <td>NaN</td>\n",
       "      <td>NaN</td>\n",
       "      <td>NaN</td>\n",
       "      <td>NaN</td>\n",
       "      <td>NaN</td>\n",
       "      <td>NaN</td>\n",
       "      <td>NaN</td>\n",
       "      <td>NaN</td>\n",
       "      <td>NaN</td>\n",
       "      <td>NaN</td>\n",
       "    </tr>\n",
       "    <tr>\n",
       "      <th>2</th>\n",
       "      <td>HP</td>\n",
       "      <td>2</td>\n",
       "      <td>https://www.flipkart.com/hp-victus-ryzen-7-oct...</td>\n",
       "      <td>HP Victus Ryzen 7 Octa Core 5800H - (16 GB/512...</td>\n",
       "      <td>NaN</td>\n",
       "      <td>?1,04,091</td>\n",
       "      <td>Laptop, battery, adapter, cables and user manuals</td>\n",
       "      <td>16-e0351AX</td>\n",
       "      <td>552X1PA#ACJ</td>\n",
       "      <td>16-e0351AX</td>\n",
       "      <td>...</td>\n",
       "      <td>NaN</td>\n",
       "      <td>NaN</td>\n",
       "      <td>NaN</td>\n",
       "      <td>NaN</td>\n",
       "      <td>NaN</td>\n",
       "      <td>NaN</td>\n",
       "      <td>NaN</td>\n",
       "      <td>NaN</td>\n",
       "      <td>NaN</td>\n",
       "      <td>NaN</td>\n",
       "    </tr>\n",
       "    <tr>\n",
       "      <th>3</th>\n",
       "      <td>Lenovo</td>\n",
       "      <td>3</td>\n",
       "      <td>https://www.flipkart.com/lenovo-ideapad-gaming...</td>\n",
       "      <td>Lenovo IdeaPad Gaming 3i Ryzen 7 Octa Core R7-...</td>\n",
       "      <td>NaN</td>\n",
       "      <td>?87,717</td>\n",
       "      <td>Laptop, Power Adaptor, User Guide, Warranty Do...</td>\n",
       "      <td>15ACH6</td>\n",
       "      <td>82K201RSIN</td>\n",
       "      <td>IdeaPad Gaming 3</td>\n",
       "      <td>...</td>\n",
       "      <td>NaN</td>\n",
       "      <td>NaN</td>\n",
       "      <td>NaN</td>\n",
       "      <td>NaN</td>\n",
       "      <td>NaN</td>\n",
       "      <td>NaN</td>\n",
       "      <td>NaN</td>\n",
       "      <td>NaN</td>\n",
       "      <td>NaN</td>\n",
       "      <td>NaN</td>\n",
       "    </tr>\n",
       "    <tr>\n",
       "      <th>4</th>\n",
       "      <td>Lenovo</td>\n",
       "      <td>4</td>\n",
       "      <td>https://www.flipkart.com/lenovo-yoga-slim-7-co...</td>\n",
       "      <td>Lenovo Yoga Slim 7 Core i5 11th Gen - (16 GB/5...</td>\n",
       "      <td>NaN</td>\n",
       "      <td>?75,990</td>\n",
       "      <td>Laptop, Adaptor</td>\n",
       "      <td>82A300MBIN</td>\n",
       "      <td>1LS2B001653</td>\n",
       "      <td>Yoga Slim 7 14ITL05</td>\n",
       "      <td>...</td>\n",
       "      <td>NaN</td>\n",
       "      <td>NaN</td>\n",
       "      <td>NaN</td>\n",
       "      <td>NaN</td>\n",
       "      <td>NaN</td>\n",
       "      <td>NaN</td>\n",
       "      <td>NaN</td>\n",
       "      <td>NaN</td>\n",
       "      <td>NaN</td>\n",
       "      <td>NaN</td>\n",
       "    </tr>\n",
       "  </tbody>\n",
       "</table>\n",
       "<p>5 rows × 99 columns</p>\n",
       "</div>"
      ],
      "text/plain": [
       "   Vendor  Unnamed: 0                                               link  \\\n",
       "0    ASUS           0  https://www.flipkart.com/asus-rog-strix-scar-1...   \n",
       "1    ASUS           1  https://www.flipkart.com/asus-rog-strix-scar-1...   \n",
       "2      HP           2  https://www.flipkart.com/hp-victus-ryzen-7-oct...   \n",
       "3  Lenovo           3  https://www.flipkart.com/lenovo-ideapad-gaming...   \n",
       "4  Lenovo           4  https://www.flipkart.com/lenovo-yoga-slim-7-co...   \n",
       "\n",
       "                                                name  user rating      Price  \\\n",
       "0  ASUS ROG Strix SCAR 17 Core i9 12th Gen - (32 ...         5.00  ?2,34,990   \n",
       "1  ASUS ROG Strix SCAR 15 Core i9 12th Gen - (32 ...          NaN  ?2,29,990   \n",
       "2  HP Victus Ryzen 7 Octa Core 5800H - (16 GB/512...          NaN  ?1,04,091   \n",
       "3  Lenovo IdeaPad Gaming 3i Ryzen 7 Octa Core R7-...          NaN    ?87,717   \n",
       "4  Lenovo Yoga Slim 7 Core i5 11th Gen - (16 GB/5...          NaN    ?75,990   \n",
       "\n",
       "                                       Sales Package    Model Number  \\\n",
       "0  Laptop, Power Adaptor, User Guide, Warranty Do...  G733ZW-LL139WS   \n",
       "1  Laptop, Power Adaptor, User Guide, Warranty Do...  G533ZW-LN136WS   \n",
       "2  Laptop, battery, adapter, cables and user manuals      16-e0351AX   \n",
       "3  Laptop, Power Adaptor, User Guide, Warranty Do...          15ACH6   \n",
       "4                                    Laptop, Adaptor      82A300MBIN   \n",
       "\n",
       "       Part Number           Model Name  ... Security Chip Inbuilt 4G LTE  \\\n",
       "0  90NR08G2-M007S0       G733ZW-LL139WS  ...           NaN            NaN   \n",
       "1  90NR0872-M007L0       G533ZW-LN136WS  ...           NaN            NaN   \n",
       "2      552X1PA#ACJ           16-e0351AX  ...           NaN            NaN   \n",
       "3       82K201RSIN     IdeaPad Gaming 3  ...           NaN            NaN   \n",
       "4      1LS2B001653  Yoga Slim 7 14ITL05  ...           NaN            NaN   \n",
       "\n",
       "  Cloud Storage S-video Dock Port Firewire Port RJ11 Read/Write Speed  \\\n",
       "0           NaN     NaN       NaN           NaN  NaN              NaN   \n",
       "1           NaN     NaN       NaN           NaN  NaN              NaN   \n",
       "2           NaN     NaN       NaN           NaN  NaN              NaN   \n",
       "3           NaN     NaN       NaN           NaN  NaN              NaN   \n",
       "4           NaN     NaN       NaN           NaN  NaN              NaN   \n",
       "\n",
       "  EMMC Storage Capacity Optane Memory  \n",
       "0                   NaN           NaN  \n",
       "1                   NaN           NaN  \n",
       "2                   NaN           NaN  \n",
       "3                   NaN           NaN  \n",
       "4                   NaN           NaN  \n",
       "\n",
       "[5 rows x 99 columns]"
      ]
     },
     "execution_count": 112,
     "metadata": {},
     "output_type": "execute_result"
    }
   ],
   "source": [
    "#Само имя нам мало что дает, потому что в целом оно уникально. Но в нем зашито имя вендора. Попробуем выделить вендора из имени\n",
    "data['Vendor']=data.name.str.split(\" \",expand=True)[0]\n",
    "data.insert(0, 'Vendor', data.pop('Vendor'))\n",
    "data.head()"
   ]
  },
  {
   "cell_type": "code",
   "execution_count": 113,
   "metadata": {},
   "outputs": [
    {
     "data": {
      "text/html": [
       "<div>\n",
       "<style scoped>\n",
       "    .dataframe tbody tr th:only-of-type {\n",
       "        vertical-align: middle;\n",
       "    }\n",
       "\n",
       "    .dataframe tbody tr th {\n",
       "        vertical-align: top;\n",
       "    }\n",
       "\n",
       "    .dataframe thead th {\n",
       "        text-align: right;\n",
       "    }\n",
       "</style>\n",
       "<table border=\"1\" class=\"dataframe\">\n",
       "  <thead>\n",
       "    <tr style=\"text-align: right;\">\n",
       "      <th></th>\n",
       "      <th>Vendor</th>\n",
       "      <th>Unnamed: 0</th>\n",
       "      <th>link</th>\n",
       "      <th>name</th>\n",
       "      <th>user rating</th>\n",
       "      <th>Price</th>\n",
       "      <th>Sales Package</th>\n",
       "      <th>Model Number</th>\n",
       "      <th>Part Number</th>\n",
       "      <th>Model Name</th>\n",
       "      <th>...</th>\n",
       "      <th>Security Chip</th>\n",
       "      <th>Inbuilt 4G LTE</th>\n",
       "      <th>Cloud Storage</th>\n",
       "      <th>S-video</th>\n",
       "      <th>Dock Port</th>\n",
       "      <th>Firewire Port</th>\n",
       "      <th>RJ11</th>\n",
       "      <th>Read/Write Speed</th>\n",
       "      <th>EMMC Storage Capacity</th>\n",
       "      <th>Optane Memory</th>\n",
       "    </tr>\n",
       "  </thead>\n",
       "  <tbody>\n",
       "    <tr>\n",
       "      <th>0</th>\n",
       "      <td>ASUS</td>\n",
       "      <td>0</td>\n",
       "      <td>https://www.flipkart.com/asus-rog-strix-scar-1...</td>\n",
       "      <td>ASUS ROG Strix SCAR 17 Core i9 12th Gen - (32 ...</td>\n",
       "      <td>5.00</td>\n",
       "      <td>234990</td>\n",
       "      <td>Laptop, Power Adaptor, User Guide, Warranty Do...</td>\n",
       "      <td>G733ZW-LL139WS</td>\n",
       "      <td>90NR08G2-M007S0</td>\n",
       "      <td>G733ZW-LL139WS</td>\n",
       "      <td>...</td>\n",
       "      <td>NaN</td>\n",
       "      <td>NaN</td>\n",
       "      <td>NaN</td>\n",
       "      <td>NaN</td>\n",
       "      <td>NaN</td>\n",
       "      <td>NaN</td>\n",
       "      <td>NaN</td>\n",
       "      <td>NaN</td>\n",
       "      <td>NaN</td>\n",
       "      <td>NaN</td>\n",
       "    </tr>\n",
       "    <tr>\n",
       "      <th>1</th>\n",
       "      <td>ASUS</td>\n",
       "      <td>1</td>\n",
       "      <td>https://www.flipkart.com/asus-rog-strix-scar-1...</td>\n",
       "      <td>ASUS ROG Strix SCAR 15 Core i9 12th Gen - (32 ...</td>\n",
       "      <td>NaN</td>\n",
       "      <td>229990</td>\n",
       "      <td>Laptop, Power Adaptor, User Guide, Warranty Do...</td>\n",
       "      <td>G533ZW-LN136WS</td>\n",
       "      <td>90NR0872-M007L0</td>\n",
       "      <td>G533ZW-LN136WS</td>\n",
       "      <td>...</td>\n",
       "      <td>NaN</td>\n",
       "      <td>NaN</td>\n",
       "      <td>NaN</td>\n",
       "      <td>NaN</td>\n",
       "      <td>NaN</td>\n",
       "      <td>NaN</td>\n",
       "      <td>NaN</td>\n",
       "      <td>NaN</td>\n",
       "      <td>NaN</td>\n",
       "      <td>NaN</td>\n",
       "    </tr>\n",
       "    <tr>\n",
       "      <th>2</th>\n",
       "      <td>HP</td>\n",
       "      <td>2</td>\n",
       "      <td>https://www.flipkart.com/hp-victus-ryzen-7-oct...</td>\n",
       "      <td>HP Victus Ryzen 7 Octa Core 5800H - (16 GB/512...</td>\n",
       "      <td>NaN</td>\n",
       "      <td>104091</td>\n",
       "      <td>Laptop, battery, adapter, cables and user manuals</td>\n",
       "      <td>16-e0351AX</td>\n",
       "      <td>552X1PA#ACJ</td>\n",
       "      <td>16-e0351AX</td>\n",
       "      <td>...</td>\n",
       "      <td>NaN</td>\n",
       "      <td>NaN</td>\n",
       "      <td>NaN</td>\n",
       "      <td>NaN</td>\n",
       "      <td>NaN</td>\n",
       "      <td>NaN</td>\n",
       "      <td>NaN</td>\n",
       "      <td>NaN</td>\n",
       "      <td>NaN</td>\n",
       "      <td>NaN</td>\n",
       "    </tr>\n",
       "    <tr>\n",
       "      <th>3</th>\n",
       "      <td>Lenovo</td>\n",
       "      <td>3</td>\n",
       "      <td>https://www.flipkart.com/lenovo-ideapad-gaming...</td>\n",
       "      <td>Lenovo IdeaPad Gaming 3i Ryzen 7 Octa Core R7-...</td>\n",
       "      <td>NaN</td>\n",
       "      <td>87717</td>\n",
       "      <td>Laptop, Power Adaptor, User Guide, Warranty Do...</td>\n",
       "      <td>15ACH6</td>\n",
       "      <td>82K201RSIN</td>\n",
       "      <td>IdeaPad Gaming 3</td>\n",
       "      <td>...</td>\n",
       "      <td>NaN</td>\n",
       "      <td>NaN</td>\n",
       "      <td>NaN</td>\n",
       "      <td>NaN</td>\n",
       "      <td>NaN</td>\n",
       "      <td>NaN</td>\n",
       "      <td>NaN</td>\n",
       "      <td>NaN</td>\n",
       "      <td>NaN</td>\n",
       "      <td>NaN</td>\n",
       "    </tr>\n",
       "    <tr>\n",
       "      <th>4</th>\n",
       "      <td>Lenovo</td>\n",
       "      <td>4</td>\n",
       "      <td>https://www.flipkart.com/lenovo-yoga-slim-7-co...</td>\n",
       "      <td>Lenovo Yoga Slim 7 Core i5 11th Gen - (16 GB/5...</td>\n",
       "      <td>NaN</td>\n",
       "      <td>75990</td>\n",
       "      <td>Laptop, Adaptor</td>\n",
       "      <td>82A300MBIN</td>\n",
       "      <td>1LS2B001653</td>\n",
       "      <td>Yoga Slim 7 14ITL05</td>\n",
       "      <td>...</td>\n",
       "      <td>NaN</td>\n",
       "      <td>NaN</td>\n",
       "      <td>NaN</td>\n",
       "      <td>NaN</td>\n",
       "      <td>NaN</td>\n",
       "      <td>NaN</td>\n",
       "      <td>NaN</td>\n",
       "      <td>NaN</td>\n",
       "      <td>NaN</td>\n",
       "      <td>NaN</td>\n",
       "    </tr>\n",
       "  </tbody>\n",
       "</table>\n",
       "<p>5 rows × 99 columns</p>\n",
       "</div>"
      ],
      "text/plain": [
       "   Vendor  Unnamed: 0                                               link  \\\n",
       "0    ASUS           0  https://www.flipkart.com/asus-rog-strix-scar-1...   \n",
       "1    ASUS           1  https://www.flipkart.com/asus-rog-strix-scar-1...   \n",
       "2      HP           2  https://www.flipkart.com/hp-victus-ryzen-7-oct...   \n",
       "3  Lenovo           3  https://www.flipkart.com/lenovo-ideapad-gaming...   \n",
       "4  Lenovo           4  https://www.flipkart.com/lenovo-yoga-slim-7-co...   \n",
       "\n",
       "                                                name  user rating   Price  \\\n",
       "0  ASUS ROG Strix SCAR 17 Core i9 12th Gen - (32 ...         5.00  234990   \n",
       "1  ASUS ROG Strix SCAR 15 Core i9 12th Gen - (32 ...          NaN  229990   \n",
       "2  HP Victus Ryzen 7 Octa Core 5800H - (16 GB/512...          NaN  104091   \n",
       "3  Lenovo IdeaPad Gaming 3i Ryzen 7 Octa Core R7-...          NaN   87717   \n",
       "4  Lenovo Yoga Slim 7 Core i5 11th Gen - (16 GB/5...          NaN   75990   \n",
       "\n",
       "                                       Sales Package    Model Number  \\\n",
       "0  Laptop, Power Adaptor, User Guide, Warranty Do...  G733ZW-LL139WS   \n",
       "1  Laptop, Power Adaptor, User Guide, Warranty Do...  G533ZW-LN136WS   \n",
       "2  Laptop, battery, adapter, cables and user manuals      16-e0351AX   \n",
       "3  Laptop, Power Adaptor, User Guide, Warranty Do...          15ACH6   \n",
       "4                                    Laptop, Adaptor      82A300MBIN   \n",
       "\n",
       "       Part Number           Model Name  ... Security Chip Inbuilt 4G LTE  \\\n",
       "0  90NR08G2-M007S0       G733ZW-LL139WS  ...           NaN            NaN   \n",
       "1  90NR0872-M007L0       G533ZW-LN136WS  ...           NaN            NaN   \n",
       "2      552X1PA#ACJ           16-e0351AX  ...           NaN            NaN   \n",
       "3       82K201RSIN     IdeaPad Gaming 3  ...           NaN            NaN   \n",
       "4      1LS2B001653  Yoga Slim 7 14ITL05  ...           NaN            NaN   \n",
       "\n",
       "  Cloud Storage S-video Dock Port Firewire Port RJ11 Read/Write Speed  \\\n",
       "0           NaN     NaN       NaN           NaN  NaN              NaN   \n",
       "1           NaN     NaN       NaN           NaN  NaN              NaN   \n",
       "2           NaN     NaN       NaN           NaN  NaN              NaN   \n",
       "3           NaN     NaN       NaN           NaN  NaN              NaN   \n",
       "4           NaN     NaN       NaN           NaN  NaN              NaN   \n",
       "\n",
       "  EMMC Storage Capacity Optane Memory  \n",
       "0                   NaN           NaN  \n",
       "1                   NaN           NaN  \n",
       "2                   NaN           NaN  \n",
       "3                   NaN           NaN  \n",
       "4                   NaN           NaN  \n",
       "\n",
       "[5 rows x 99 columns]"
      ]
     },
     "execution_count": 113,
     "metadata": {},
     "output_type": "execute_result"
    }
   ],
   "source": [
    "# Цены в рупиях в object - превращаем в цифру\n",
    "data[\"Price\"]=data[\"Price\"].str.replace('(,)','')\n",
    "data[\"Price\"]=data[\"Price\"].str.replace('?','')\n",
    "data[\"Price\"]=pd.to_numeric(data[\"Price\"])\n",
    "data.head()"
   ]
  },
  {
   "cell_type": "code",
   "execution_count": 114,
   "metadata": {},
   "outputs": [
    {
     "name": "stdout",
     "output_type": "stream",
     "text": [
      "USB Port\n",
      "Dimensions\n",
      "Weight\n"
     ]
    }
   ],
   "source": [
    "# Удалим сильно уникальные колонки с object и не интересные в плане цены(к примеру наличие rj45,rj11), чтобы не заниматься ими. В началае удалим те, которые стали сразу заметны глазу при изучении данных, потом где много уникальных, либо не очень легко интерпритируемых по значению\n",
    "list_to_drop=[\"name\",\"Unnamed: 0\",\"Model Number\",\"Part Number\",\"Model Name\",\"link\",\"Series\",\"Clock Speed\",\"Screen Type\",\"Sound Properties\",\"Backlit Keyboard\",\"Additional Features\",\"Web Camera\",\"Pointer Device\",\"Sound Chip\",\"Other Accessories\",\"Recovery Options\",\"RPM\",\"Hardware Interface\",\"Face Recognition\",\"System Architecture\",\"Antivirus\",\"NFC Support\",\"HDD Capacity\",\"TGP\",\"VGA Port\",\"Color Gamut\",\"Security Chip\",\"Inbuilt 4G LTE\",\"Cloud Storage\",\"S-video\",\"Dock Port\",\"Firewire Port\",\"RJ11\",\"Read/Write Speed\",\"RJ45\",\"Included Software\",'Mic In','Power Supply',\"Expandable Memory\",\"Memory Slots\",\"RAM Frequency\",\"Speakers\",\"Wireless LAN\",\"Keyboard\"]\n",
    "twentyP=data.__len__()/100*20\n",
    "for col in data.columns:\n",
    "    if col not in list_to_drop:\n",
    "        if data[col].nunique()>=twentyP and data[col].dtype==object:\n",
    "            print(col)\n",
    "            list_to_drop.append(col)\n",
    "data=data.drop(list_to_drop,axis=1)"
   ]
  },
  {
   "cell_type": "code",
   "execution_count": 115,
   "metadata": {},
   "outputs": [
    {
     "name": "stdout",
     "output_type": "stream",
     "text": [
      "['Brightness', 'Wireless WAN', 'Stylus Included', 'EMMC Storage Capacity', 'Optane Memory']\n"
     ]
    },
    {
     "data": {
      "text/plain": [
       "(851, 46)"
      ]
     },
     "execution_count": 115,
     "metadata": {},
     "output_type": "execute_result"
    }
   ],
   "source": [
    "# По сути некоторые параметры сильно могут нашуметь а их значений мало. к Примеру Optane Memory. \n",
    "# Посмотрим где много nan(где заполнено меньше 10 %) и удалим их\n",
    "notna=[]\n",
    "tenP=data.__len__()/100*10\n",
    "for col in data.columns:\n",
    "    notnacol=data[col].notna().sum()\n",
    "    if notnacol<=tenP:\n",
    "        notna.append(col)\n",
    "print(notna)\n",
    "for col in notna:\n",
    "    data = data[data[col].isna()]\n",
    "data=data.drop(notna,axis=1)\n",
    "data.shape"
   ]
  },
  {
   "cell_type": "code",
   "execution_count": 116,
   "metadata": {},
   "outputs": [
    {
     "name": "stdout",
     "output_type": "stream",
     "text": [
      "['Chipset', 'Laptop Bag', 'International Warranty', 'Refresh Rate', 'Lock Port']\n"
     ]
    },
    {
     "data": {
      "text/plain": [
       "(851, 41)"
      ]
     },
     "execution_count": 116,
     "metadata": {},
     "output_type": "execute_result"
    }
   ],
   "source": [
    "# Осталось еще много ячеек без данных\n",
    "mutchNaN=[]\n",
    "thirtyP=data.__len__()/100*30\n",
    "for col in data.columns:\n",
    "    mutchNaNcol=data[col].notna().sum()\n",
    "    if mutchNaNcol<=thirtyP:\n",
    "        mutchNaN.append(col)\n",
    "print(mutchNaN)\n",
    "data=data.drop(mutchNaN,axis=1)\n",
    "data.shape"
   ]
  },
  {
   "cell_type": "code",
   "execution_count": 117,
   "metadata": {},
   "outputs": [
    {
     "data": {
      "text/html": [
       "<div>\n",
       "<style scoped>\n",
       "    .dataframe tbody tr th:only-of-type {\n",
       "        vertical-align: middle;\n",
       "    }\n",
       "\n",
       "    .dataframe tbody tr th {\n",
       "        vertical-align: top;\n",
       "    }\n",
       "\n",
       "    .dataframe thead th {\n",
       "        text-align: right;\n",
       "    }\n",
       "</style>\n",
       "<table border=\"1\" class=\"dataframe\">\n",
       "  <thead>\n",
       "    <tr style=\"text-align: right;\">\n",
       "      <th></th>\n",
       "      <th>Vendor</th>\n",
       "      <th>user rating</th>\n",
       "      <th>Price</th>\n",
       "      <th>Sales Package</th>\n",
       "      <th>Color</th>\n",
       "      <th>Type</th>\n",
       "      <th>Suitable For</th>\n",
       "      <th>Battery Cell</th>\n",
       "      <th>MS Office Provided</th>\n",
       "      <th>Dedicated Graphic Memory Type</th>\n",
       "      <th>...</th>\n",
       "      <th>Disk Drive</th>\n",
       "      <th>Finger Print Sensor</th>\n",
       "      <th>Warranty Summary</th>\n",
       "      <th>Warranty Service Type</th>\n",
       "      <th>Covered in Warranty</th>\n",
       "      <th>Not Covered in Warranty</th>\n",
       "      <th>Domestic Warranty</th>\n",
       "      <th>Ethernet</th>\n",
       "      <th>Battery Backup</th>\n",
       "      <th>Multi Card Slot</th>\n",
       "    </tr>\n",
       "  </thead>\n",
       "  <tbody>\n",
       "    <tr>\n",
       "      <th>nunique</th>\n",
       "      <td>16</td>\n",
       "      <td>27</td>\n",
       "      <td>384</td>\n",
       "      <td>78</td>\n",
       "      <td>120</td>\n",
       "      <td>9</td>\n",
       "      <td>27</td>\n",
       "      <td>19</td>\n",
       "      <td>2</td>\n",
       "      <td>5</td>\n",
       "      <td>...</td>\n",
       "      <td>3</td>\n",
       "      <td>2</td>\n",
       "      <td>67</td>\n",
       "      <td>17</td>\n",
       "      <td>28</td>\n",
       "      <td>30</td>\n",
       "      <td>4</td>\n",
       "      <td>28</td>\n",
       "      <td>130</td>\n",
       "      <td>64</td>\n",
       "    </tr>\n",
       "    <tr>\n",
       "      <th>isna</th>\n",
       "      <td>0</td>\n",
       "      <td>244</td>\n",
       "      <td>0</td>\n",
       "      <td>0</td>\n",
       "      <td>0</td>\n",
       "      <td>0</td>\n",
       "      <td>0</td>\n",
       "      <td>252</td>\n",
       "      <td>0</td>\n",
       "      <td>552</td>\n",
       "      <td>...</td>\n",
       "      <td>0</td>\n",
       "      <td>240</td>\n",
       "      <td>0</td>\n",
       "      <td>0</td>\n",
       "      <td>0</td>\n",
       "      <td>3</td>\n",
       "      <td>163</td>\n",
       "      <td>568</td>\n",
       "      <td>342</td>\n",
       "      <td>417</td>\n",
       "    </tr>\n",
       "    <tr>\n",
       "      <th>notna</th>\n",
       "      <td>851</td>\n",
       "      <td>607</td>\n",
       "      <td>851</td>\n",
       "      <td>851</td>\n",
       "      <td>851</td>\n",
       "      <td>851</td>\n",
       "      <td>851</td>\n",
       "      <td>599</td>\n",
       "      <td>851</td>\n",
       "      <td>299</td>\n",
       "      <td>...</td>\n",
       "      <td>851</td>\n",
       "      <td>611</td>\n",
       "      <td>851</td>\n",
       "      <td>851</td>\n",
       "      <td>851</td>\n",
       "      <td>848</td>\n",
       "      <td>688</td>\n",
       "      <td>283</td>\n",
       "      <td>509</td>\n",
       "      <td>434</td>\n",
       "    </tr>\n",
       "  </tbody>\n",
       "</table>\n",
       "<p>3 rows × 41 columns</p>\n",
       "</div>"
      ],
      "text/plain": [
       "         Vendor  user rating  Price  Sales Package  Color  Type  Suitable For  \\\n",
       "nunique      16           27    384             78    120     9            27   \n",
       "isna          0          244      0              0      0     0             0   \n",
       "notna       851          607    851            851    851   851           851   \n",
       "\n",
       "         Battery Cell  MS Office Provided  Dedicated Graphic Memory Type  ...  \\\n",
       "nunique            19                   2                              5  ...   \n",
       "isna              252                   0                            552  ...   \n",
       "notna             599                 851                            299  ...   \n",
       "\n",
       "         Disk Drive  Finger Print Sensor  Warranty Summary  \\\n",
       "nunique           3                    2                67   \n",
       "isna              0                  240                 0   \n",
       "notna           851                  611               851   \n",
       "\n",
       "         Warranty Service Type  Covered in Warranty  Not Covered in Warranty  \\\n",
       "nunique                     17                   28                       30   \n",
       "isna                         0                    0                        3   \n",
       "notna                      851                  851                      848   \n",
       "\n",
       "         Domestic Warranty  Ethernet  Battery Backup  Multi Card Slot  \n",
       "nunique                  4        28             130               64  \n",
       "isna                   163       568             342              417  \n",
       "notna                  688       283             509              434  \n",
       "\n",
       "[3 rows x 41 columns]"
      ]
     },
     "execution_count": 117,
     "metadata": {},
     "output_type": "execute_result"
    }
   ],
   "source": [
    "# Посмотрим на общее количество уникальных и нан значений в оставшихся колонках\n",
    "uniqs={}\n",
    "for col in data.columns:\n",
    "    result={}\n",
    "    result[\"nunique\"]=data[col].nunique()\n",
    "    result[\"isna\"]=data[col].isna().sum()\n",
    "    result[\"notna\"]=data[col].notna().sum()\n",
    "    uniqs[col]=result\n",
    "pd.DataFrame(uniqs)"
   ]
  },
  {
   "cell_type": "code",
   "execution_count": 118,
   "metadata": {},
   "outputs": [
    {
     "data": {
      "text/plain": [
       "{'Type': array(['Gaming Laptop', 'Notebook', 'Thin and Light Laptop', 'Laptop',\n",
       "        'Business Laptop', '2 in 1 Laptop', 'Chromebook', 'Creator Laptop',\n",
       "        '2 in 1 Gaming Laptop'], dtype=object),\n",
       " 'MS Office Provided': array(['Yes', 'No'], dtype=object),\n",
       " 'Dedicated Graphic Memory Type': array(['GDDR6', nan, 'DDR4', 'GDDR3', 'GDDR5', 'DDR5'], dtype=object),\n",
       " 'Dedicated Graphic Memory Capacity': array(['8 GB', '4 GB', nan, '6 GB', '2 GB', '16 GB', '128 MB', '10 GB',\n",
       "        '512 MB', '12 GB'], dtype=object),\n",
       " 'Processor Brand': array(['Intel', 'AMD', 'Apple'], dtype=object),\n",
       " 'Processor Generation': array(['12th Gen', nan, '11th Gen', '7th Gen', '3rd Gen', '10th Gen',\n",
       "        '5th Gen', '9th Gen', '4th Gen', '8th Gen'], dtype=object),\n",
       " 'SSD': array(['Yes', 'No'], dtype=object),\n",
       " 'SSD Capacity': array(['1 TB', '512 GB', '256 GB', '128 GB', nan, '2 TB'], dtype=object),\n",
       " 'RAM': array(['32 GB', '16 GB', '8 GB', '4 GB'], dtype=object),\n",
       " 'RAM Type': array(['DDR5', 'DDR4', 'LPDDR4X', 'LPDDR5', 'LPDDR4', 'Unified Memory',\n",
       "        'DDR3', 'LPDDR3'], dtype=object),\n",
       " 'OS Architecture': array(['64 bit', nan, '32 bit'], dtype=object),\n",
       " 'Operating System': array(['Windows 11 Home', 'Windows 10 Home', 'Windows 10',\n",
       "        'Windows 11 Pro', 'DOS', 'Windows 10 Pro', 'Chrome',\n",
       "        'Mac OS Monterey', 'Mac OS Big Sur', 'Ubuntu'], dtype=object),\n",
       " 'Touchscreen': array(['No', 'Yes'], dtype=object),\n",
       " 'Disk Drive': array(['Not Available', 'CD/DVD writer', 'CD/DVD reader'], dtype=object),\n",
       " 'Finger Print Sensor': array(['No', nan, 'Yes'], dtype=object),\n",
       " 'Domestic Warranty': array(['1 Year', nan, '2 Year', '3 Year', '12 Months'], dtype=object)}"
      ]
     },
     "execution_count": 118,
     "metadata": {},
     "output_type": "execute_result"
    }
   ],
   "source": [
    "# Посмотрим на уникальные значения параметров, где уникальных значений меньше 10, весьма вероятно что можно будет заменять на бинарные есть или нет либо байтовые единицы обезличить и превратить в цифры(к примеру не важдно какой картридер, важно что он есть, не важно какая версия windows стоит или еще какие схожести, что удалить тоже можно подумать)\n",
    "results={}\n",
    "for col in uniqs:\n",
    "    if uniqs[col][\"nunique\"]<=10 and data[col].dtype==object:\n",
    "        results[col]=data[col].unique()\n",
    "results"
   ]
  },
  {
   "cell_type": "code",
   "execution_count": 119,
   "metadata": {},
   "outputs": [],
   "source": [
    "regTB='(\\d+)\\s+TB'\n",
    "regGB='(\\d+)\\s+GB'\n",
    "regMB='(\\d+)\\s+MB'\n",
    "def replacer(str):\n",
    "    if pd.notna(str):\n",
    "        if str==\"Yes\":\n",
    "            return 1    \n",
    "        if str==\"No\":\n",
    "            return 0  \n",
    "        if re.match(regGB, str):\n",
    "            return int(re.search(regGB,str).group(1))*1024\n",
    "        if re.match(regTB, str):\n",
    "            return int(re.search(regTB,str).group(1))*1024*1024\n",
    "        if re.match(regMB, str):\n",
    "            return int(re.search(regMB,str).group(1))\n"
   ]
  },
  {
   "cell_type": "code",
   "execution_count": 120,
   "metadata": {},
   "outputs": [
    {
     "name": "stdout",
     "output_type": "stream",
     "text": [
      "74\n",
      "76\n"
     ]
    }
   ],
   "source": [
    "print(np.sum(data[\"SSD\"]==\"No\"))\n",
    "print(np.sum(data[\"SSD Capacity\"].isna()))\n",
    "#у SSD почти гарантированно будет размер, можно дропнуть 2 незаполненных значения и колонку наличия SSD\n",
    "data=data.drop(data[(data[\"SSD\"]==\"Yes\") & (data[\"SSD Capacity\"].isna())].index)\n",
    "data=data.drop(\"SSD\",axis=1)\n"
   ]
  },
  {
   "cell_type": "code",
   "execution_count": 121,
   "metadata": {},
   "outputs": [],
   "source": [
    "data['MS Office Provided']=data['MS Office Provided'].map(lambda x:replacer(x))\n",
    "data['Dedicated Graphic Memory Capacity']=data['Dedicated Graphic Memory Capacity'].map(lambda x:replacer(x))\n",
    "data['Dedicated Graphic Memory Capacity']=data['Dedicated Graphic Memory Capacity'].fillna(0)\n",
    "data['SSD Capacity']=data['SSD Capacity'].map(lambda x:replacer(x))\n",
    "data['SSD Capacity']=data['SSD Capacity'].fillna(0)\n",
    "data['RAM']=data['RAM'].map(lambda x:replacer(x))\n",
    "data['Touchscreen']=data['Touchscreen'].map(lambda x:replacer(x))\n",
    "data['Finger Print Sensor']=data['Finger Print Sensor'].map(lambda x:replacer(x))\n",
    "data['Finger Print Sensor']=data['Finger Print Sensor'].fillna(0)\n"
   ]
  },
  {
   "cell_type": "code",
   "execution_count": 122,
   "metadata": {},
   "outputs": [],
   "source": [
    "# Все остальные значения так легко не интерпретируются"
   ]
  },
  {
   "cell_type": "code",
   "execution_count": 123,
   "metadata": {},
   "outputs": [
    {
     "name": "stdout",
     "output_type": "stream",
     "text": [
      "['Dedicated Graphic Memory Type', 'Supported Operating System', 'Ethernet', 'Battery Backup', 'Multi Card Slot']\n"
     ]
    }
   ],
   "source": [
    "#Посмотрим что осталость с количеством нанов более 30% от ячейки\n",
    "mutchNaN=[]\n",
    "seventyP=data.__len__()/100*70\n",
    "for col in data.columns:\n",
    "    mutchNaNcol=data[col].notna().sum()\n",
    "    if mutchNaNcol<=seventyP:\n",
    "        mutchNaN.append(col)\n",
    "print(mutchNaN)"
   ]
  },
  {
   "cell_type": "code",
   "execution_count": 124,
   "metadata": {},
   "outputs": [],
   "source": [
    "def convertToOne(str):\n",
    "    if str!=0:\n",
    "        return 1\n",
    "    return 0"
   ]
  },
  {
   "cell_type": "code",
   "execution_count": 125,
   "metadata": {},
   "outputs": [
    {
     "data": {
      "text/plain": [
       "array([0, 1])"
      ]
     },
     "execution_count": 125,
     "metadata": {},
     "output_type": "execute_result"
    }
   ],
   "source": [
    "list_to_drop=['Processor Brand','Processor Variant','Processor Generation']\n",
    "data=data.drop(list_to_drop,axis=1)\n",
    "# По сути Ethernet скорей всего заполнялся не качественно, но он сейчас для ноутбуков и не важен, кард ридер можно разобрать на полочка - как есть или нет\n",
    "data=data.drop(\"Ethernet\",axis=1)\n",
    "data=data.drop(\"Supported Operating System\",axis=1)\n",
    "data=data.drop(\"Battery Backup\",axis=1)\n",
    "data=data.drop(\"Internal Mic\",axis=1)\n",
    "data['Multi Card Slot']=data['Multi Card Slot'].fillna(0)\n",
    "data['Multi Card Slot']=data['Multi Card Slot'].replace('No','0')\n",
    "data['Multi Card Slot']=data['Multi Card Slot'].map(lambda x:convertToOne(x))\n",
    "data = data[data['Not Covered in Warranty'].notna()]\n",
    "data = data[data['Bluetooth'].notna()]\n",
    "data = data[data['Graphic Processor'].notna()]\n",
    "# data=data.drop(data[\"Not Covered in Warranty\"].notna().index)\n",
    "data['Multi Card Slot'].unique()\n"
   ]
  },
  {
   "cell_type": "code",
   "execution_count": 126,
   "metadata": {},
   "outputs": [],
   "source": [
    "remap={'1 Year':1, '2 Year':2, '3 Year':3, '12 Months':1}\n",
    "data[\"Domestic Warranty\"]=data[\"Domestic Warranty\"].map(remap)\n",
    "data[\"Domestic Warranty\"]=data[\"Domestic Warranty\"].fillna(0)\n",
    "\n"
   ]
  },
  {
   "cell_type": "code",
   "execution_count": 127,
   "metadata": {},
   "outputs": [],
   "source": [
    "def checkForFill(col):\n",
    "    list_to_check = [0, data[col].min(), data[col].max(), data[col].mean(), data[col].median(),\\\n",
    "                        data[col].quantile(0.3), data[col].quantile(0.4), data[col].quantile(0.6),\\\n",
    "                        data[col].quantile(0.7)]\n",
    "\n",
    "    list_of_names = ['0', 'min', 'max', 'mean', 'median', 'quantile 0.3', 'quantile 0.4', 'quantile 0.6', 'quantile 0.7']\n",
    "    list_of_methods = ['bfill', 'ffill']\n",
    "\n",
    "    for el in list_to_check:\n",
    "        print('method: {}, correlation value: {:.4f}'.format(list_of_names[list_to_check.index(el)], \\\n",
    "                                                        data[col].fillna(el).corr(data.Price)))\n",
    "    for el in list_of_methods:\n",
    "        print('method: {}, correlation value: {:.4f}'.format(el, \\\n",
    "                                                        data[col].fillna(method=el).corr(data.Price)))"
   ]
  },
  {
   "cell_type": "code",
   "execution_count": 128,
   "metadata": {},
   "outputs": [
    {
     "name": "stdout",
     "output_type": "stream",
     "text": [
      "method: 0, correlation value: -0.3659\n",
      "method: min, correlation value: -0.3379\n",
      "method: max, correlation value: 0.3697\n",
      "method: mean, correlation value: 0.1266\n",
      "method: median, correlation value: 0.1662\n",
      "method: quantile 0.3, correlation value: 0.0641\n",
      "method: quantile 0.4, correlation value: 0.1159\n",
      "method: quantile 0.6, correlation value: 0.2125\n",
      "method: quantile 0.6, correlation value: 0.2125\n",
      "method: bfill, correlation value: 0.0110\n",
      "method: ffill, correlation value: 0.0598\n"
     ]
    }
   ],
   "source": [
    "checkForFill(\"user rating\")"
   ]
  },
  {
   "cell_type": "code",
   "execution_count": 129,
   "metadata": {},
   "outputs": [],
   "source": [
    "data[\"user rating\"]=data[\"user rating\"].fillna(data[\"user rating\"].max())"
   ]
  },
  {
   "cell_type": "code",
   "execution_count": 130,
   "metadata": {},
   "outputs": [
    {
     "name": "stdout",
     "output_type": "stream",
     "text": [
      "method: 0, correlation value: 0.4290\n",
      "method: min, correlation value: 0.5123\n",
      "method: max, correlation value: 0.2444\n",
      "method: mean, correlation value: 0.5749\n",
      "method: median, correlation value: 0.5718\n",
      "method: median, correlation value: 0.5718\n",
      "method: median, correlation value: 0.5718\n",
      "method: median, correlation value: 0.5718\n",
      "method: quantile 0.7, correlation value: 0.5515\n",
      "method: bfill, correlation value: 0.4968\n",
      "method: ffill, correlation value: 0.4951\n"
     ]
    }
   ],
   "source": [
    "checkForFill(\"Number of Cores\")"
   ]
  },
  {
   "cell_type": "code",
   "execution_count": 131,
   "metadata": {},
   "outputs": [],
   "source": [
    "data[\"Number of Cores\"]=data[\"Number of Cores\"].fillna(data[\"Number of Cores\"].mean())"
   ]
  },
  {
   "cell_type": "code",
   "execution_count": 132,
   "metadata": {},
   "outputs": [],
   "source": [
    "# Построим скатерплоты для этих 8-ми признаков\n",
    "# sns.pairplot(data=data[cols], hue='Price')\n",
    "# plt.show()"
   ]
  },
  {
   "cell_type": "code",
   "execution_count": 133,
   "metadata": {},
   "outputs": [],
   "source": [
    "remap={'GDDR3':1, 'DDR4':2, 'GDDR5':3, 'DDR5':4,'GDDR6':5,}\n",
    "data[\"Dedicated Graphic Memory Type\"]=data[\"Dedicated Graphic Memory Type\"].map(remap)\n",
    "data[\"Dedicated Graphic Memory Type\"]=data[\"Dedicated Graphic Memory Type\"].fillna(0)"
   ]
  },
  {
   "cell_type": "code",
   "execution_count": 134,
   "metadata": {},
   "outputs": [],
   "source": [
    "remap={'4 cell':4,'3':3,'6 Cell':6,'3 cell':3,'3 Cell':3,'4 Cell':4,'2 cell':2,'6':6,'4':4,'6 cell':6,'2':2,'3-cell Li-ion':3,'3 cell Li-ion':3,'2-cell':2,'3cell':3,'2 Cell':2,'3-cell':3,'54Wh':4,'3 Cell Lithium-ion':3}\n",
    "data[\"Battery Cell\"]=data[\"Battery Cell\"].map(remap)"
   ]
  },
  {
   "cell_type": "code",
   "execution_count": 135,
   "metadata": {},
   "outputs": [
    {
     "name": "stdout",
     "output_type": "stream",
     "text": [
      "method: 0, correlation value: 0.3276\n",
      "method: min, correlation value: 0.4863\n",
      "method: max, correlation value: 0.1549\n",
      "method: mean, correlation value: 0.5412\n",
      "method: median, correlation value: 0.5528\n",
      "method: median, correlation value: 0.5528\n",
      "method: median, correlation value: 0.5528\n",
      "method: median, correlation value: 0.5528\n",
      "method: median, correlation value: 0.5528\n",
      "method: bfill, correlation value: 0.4986\n",
      "method: ffill, correlation value: 0.4553\n"
     ]
    }
   ],
   "source": [
    "checkForFill(\"Battery Cell\")"
   ]
  },
  {
   "cell_type": "code",
   "execution_count": 136,
   "metadata": {},
   "outputs": [],
   "source": [
    "data[\"Battery Cell\"]=data[\"Battery Cell\"].fillna(data[\"Battery Cell\"].median())"
   ]
  },
  {
   "cell_type": "code",
   "execution_count": 137,
   "metadata": {},
   "outputs": [
    {
     "data": {
      "text/plain": [
       "array(['24', '16MB', '4', '8', nan, '24 MB', '16', '18', '12 MB', '18 MB',\n",
       "       '6 MB', '6', '12', '4M', '6MB', '4 MB', '20', '11', '20 MB', '24M',\n",
       "       '6M', '19', '8 MB', '12M', '8M', '24MB', '16M', '16 MB', '19 MB',\n",
       "       '8MB', '4MB', '11 MB', '12MB', '3', '5', '5 MB', '3 MB', '1 MB'],\n",
       "      dtype=object)"
      ]
     },
     "execution_count": 137,
     "metadata": {},
     "output_type": "execute_result"
    }
   ],
   "source": [
    "data[\"Cache\"].unique()"
   ]
  },
  {
   "cell_type": "code",
   "execution_count": 138,
   "metadata": {},
   "outputs": [],
   "source": [
    "remap={'1 MB':1,'11 MB':11,'11':11,'12 MB':12,'12':12,'12M':12,'12MB':12,'16 MB':16,'16':16,'16M':16,'16MB':16,'18 MB':18,'18':18,'19 MB':19,'19':19,'20 MB':20,'20':20,'24 MB':24,'24':24,'24M':24,'24MB':24,'3 MB':3,'3':3,'4 MB':4,'4':4,'4M':4,'4MB':4,'5 MB':5,'5':5,'6 MB':6,'6':6,'6M':6,'6MB':6,'8 MB':8,'8':8,'8M':8,'8MB':8}\n",
    "data[\"Cache\"]=data[\"Cache\"].map(remap)"
   ]
  },
  {
   "cell_type": "code",
   "execution_count": 139,
   "metadata": {},
   "outputs": [
    {
     "name": "stdout",
     "output_type": "stream",
     "text": [
      "method: 0, correlation value: 0.4915\n",
      "method: min, correlation value: 0.5096\n",
      "method: max, correlation value: 0.3549\n",
      "method: mean, correlation value: 0.6062\n",
      "method: median, correlation value: 0.6054\n",
      "method: quantile 0.3, correlation value: 0.5895\n",
      "method: median, correlation value: 0.6054\n",
      "method: median, correlation value: 0.6054\n",
      "method: quantile 0.7, correlation value: 0.5985\n",
      "method: bfill, correlation value: 0.5184\n",
      "method: ffill, correlation value: 0.5422\n"
     ]
    }
   ],
   "source": [
    "checkForFill(\"Cache\")"
   ]
  },
  {
   "cell_type": "code",
   "execution_count": 140,
   "metadata": {},
   "outputs": [],
   "source": [
    "data[\"Cache\"]=data[\"Cache\"].fillna(data[\"Cache\"].median())"
   ]
  },
  {
   "cell_type": "code",
   "execution_count": 141,
   "metadata": {},
   "outputs": [],
   "source": [
    "data[\"OS Architecture\"].unique()\n",
    "data[\"OS Architecture\"]=data[\"OS Architecture\"].fillna('64 bit')\n",
    "remap={'64 bit':1, '32 bit':0}\n",
    "data[\"OS Architecture\"]=data[\"OS Architecture\"].map(remap)"
   ]
  },
  {
   "cell_type": "code",
   "execution_count": 142,
   "metadata": {},
   "outputs": [],
   "source": [
    "data=data.drop(\"HDMI Port\",axis=1)"
   ]
  },
  {
   "cell_type": "code",
   "execution_count": 143,
   "metadata": {},
   "outputs": [
    {
     "data": {
      "text/plain": [
       "array(['DDR5', 'DDR4', 'LPDDR4X', 'LPDDR5', 'LPDDR4', 'DDR3', 'LPDDR3'],\n",
       "      dtype=object)"
      ]
     },
     "execution_count": 143,
     "metadata": {},
     "output_type": "execute_result"
    }
   ],
   "source": [
    "data[\"RAM Type\"].unique()"
   ]
  },
  {
   "cell_type": "code",
   "execution_count": 144,
   "metadata": {},
   "outputs": [],
   "source": [
    "remap={'DDR5':6, 'DDR4':3, 'LPDDR4X':5, 'LPDDR5':7, 'LPDDR4':4, 'DDR3':1, 'LPDDR3':2}\n",
    "data[\"RAM Type\"]=data[\"RAM Type\"].map(remap)"
   ]
  },
  {
   "cell_type": "code",
   "execution_count": 145,
   "metadata": {},
   "outputs": [
    {
     "data": {
      "image/png": "[encoded data removed]",
      "text/plain": [
       "<Figure size 720x720 with 2 Axes>"
      ]
     },
     "metadata": {},
     "output_type": "display_data"
    }
   ],
   "source": [
    "k = 8\n",
    "corrmat = data.corr()\n",
    "cols = corrmat.nlargest(k, 'Price')['Price'].index.tolist()\n",
    "cols\n",
    "cm = np.corrcoef(data[cols].values.T)\n",
    "plt.figure(figsize=(10,10))\n",
    "sns.set(font_scale=1.25)\n",
    "sns.heatmap(cm, cbar=True, annot=True, square=True, fmt='.2f', annot_kws={'size': 12},\\\n",
    "                yticklabels=cols, xticklabels=cols, vmin=-1, center=0,\\\n",
    "                    cmap=sns.color_palette('coolwarm',1000))\n",
    "plt.show()"
   ]
  },
  {
   "cell_type": "code",
   "execution_count": 146,
   "metadata": {},
   "outputs": [],
   "source": [
    "remap={'RedmiBook':'Mi','lenovo':'Lenovo'}\n",
    "data[\"Vendor\"]=data[\"Vendor\"].replace(remap)"
   ]
  },
  {
   "cell_type": "code",
   "execution_count": 147,
   "metadata": {},
   "outputs": [],
   "source": [
    "data_vendor=data.copy(deep=True)"
   ]
  },
  {
   "cell_type": "code",
   "execution_count": 148,
   "metadata": {},
   "outputs": [],
   "source": [
    "data_object_cols=[]\n",
    "for col in data.columns:\n",
    "    if data[col].dtype==object:\n",
    "        data_object_cols.append(col)\n"
   ]
  },
  {
   "cell_type": "code",
   "execution_count": 149,
   "metadata": {},
   "outputs": [],
   "source": [
    "def encode_func(data, enc, cols = data_object_cols):\n",
    "  data_enc = data.copy()\n",
    "  data_enc[cols]= enc.fit_transform(data_enc[cols])\n",
    "  return data_enc\n",
    "results = {}\n",
    "#Качество будем оценивать по R2,MAE,RMSE мерам.\n",
    "from sklearn.metrics import *\n",
    "from sklearn.model_selection import cross_val_score\n",
    "from sklearn.linear_model import LinearRegression\n",
    "from sklearn.preprocessing import StandardScaler\n",
    "from sklearn.preprocessing import RobustScaler\n",
    "\n",
    "def evaluate_encoding(data_enc):\n",
    "  result = {}\n",
    "  linear = LinearRegression()\n",
    "  standart_scaler = StandardScaler()\n",
    "  robust_scaler = RobustScaler()\n",
    "  for scaler in standart_scaler,robust_scaler:\n",
    "    scaled_data = scaler.fit_transform(data_enc.drop('Price', axis = 1))\n",
    "    linear_r2 = np.mean(cross_val_score(linear, scaled_data, y = data_enc.Price, cv = 5, scoring = 'r2'))\n",
    "    linear_mse = np.mean(cross_val_score(linear, scaled_data, y = data_enc.Price, cv = 5, scoring = 'neg_mean_absolute_error'))\n",
    "    linear_rmse = np.mean(cross_val_score(linear, scaled_data, y = data_enc.Price, cv = 5, scoring = 'neg_root_mean_squared_error'))\n",
    "    result[type(scaler).__name__+'_r2']=linear_r2\n",
    "    result[type(scaler).__name__+'_mse']=linear_mse\n",
    "    result[type(scaler).__name__+'_rmse']=linear_rmse\n",
    "  return result"
   ]
  },
  {
   "cell_type": "code",
   "execution_count": 150,
   "metadata": {},
   "outputs": [
    {
     "data": {
      "text/html": [
       "<div>\n",
       "<style scoped>\n",
       "    .dataframe tbody tr th:only-of-type {\n",
       "        vertical-align: middle;\n",
       "    }\n",
       "\n",
       "    .dataframe tbody tr th {\n",
       "        vertical-align: top;\n",
       "    }\n",
       "\n",
       "    .dataframe thead th {\n",
       "        text-align: right;\n",
       "    }\n",
       "</style>\n",
       "<table border=\"1\" class=\"dataframe\">\n",
       "  <thead>\n",
       "    <tr style=\"text-align: right;\">\n",
       "      <th></th>\n",
       "      <th>Ordinal_encoding</th>\n",
       "      <th>Count_encoding</th>\n",
       "      <th>Frequency_encoding</th>\n",
       "    </tr>\n",
       "  </thead>\n",
       "  <tbody>\n",
       "    <tr>\n",
       "      <th>StandardScaler_r2</th>\n",
       "      <td>0.73</td>\n",
       "      <td>0.73</td>\n",
       "      <td>0.73</td>\n",
       "    </tr>\n",
       "    <tr>\n",
       "      <th>StandardScaler_mse</th>\n",
       "      <td>-12,119.48</td>\n",
       "      <td>-12,494.89</td>\n",
       "      <td>-12,494.89</td>\n",
       "    </tr>\n",
       "    <tr>\n",
       "      <th>StandardScaler_rmse</th>\n",
       "      <td>-18,368.29</td>\n",
       "      <td>-18,360.17</td>\n",
       "      <td>-18,360.17</td>\n",
       "    </tr>\n",
       "    <tr>\n",
       "      <th>RobustScaler_r2</th>\n",
       "      <td>0.73</td>\n",
       "      <td>0.73</td>\n",
       "      <td>0.73</td>\n",
       "    </tr>\n",
       "    <tr>\n",
       "      <th>RobustScaler_mse</th>\n",
       "      <td>-12,119.48</td>\n",
       "      <td>-12,494.89</td>\n",
       "      <td>-12,494.89</td>\n",
       "    </tr>\n",
       "    <tr>\n",
       "      <th>RobustScaler_rmse</th>\n",
       "      <td>-18,368.29</td>\n",
       "      <td>-18,360.17</td>\n",
       "      <td>-18,360.17</td>\n",
       "    </tr>\n",
       "  </tbody>\n",
       "</table>\n",
       "</div>"
      ],
      "text/plain": [
       "                     Ordinal_encoding  Count_encoding  Frequency_encoding\n",
       "StandardScaler_r2                0.73            0.73                0.73\n",
       "StandardScaler_mse         -12,119.48      -12,494.89          -12,494.89\n",
       "StandardScaler_rmse        -18,368.29      -18,360.17          -18,360.17\n",
       "RobustScaler_r2                  0.73            0.73                0.73\n",
       "RobustScaler_mse           -12,119.48      -12,494.89          -12,494.89\n",
       "RobustScaler_rmse          -18,368.29      -18,360.17          -18,360.17"
      ]
     },
     "execution_count": 150,
     "metadata": {},
     "output_type": "execute_result"
    }
   ],
   "source": [
    "from sklearn.preprocessing import OrdinalEncoder\n",
    "enc = OrdinalEncoder()\n",
    "data_enc = encode_func(data, enc)\n",
    "results['Ordinal_encoding']=dict(evaluate_encoding(data_enc))\n",
    "\n",
    "from category_encoders import CountEncoder\n",
    "enc = CountEncoder()\n",
    "data_enc = encode_func(data, enc)\n",
    "results['Count_encoding'] = evaluate_encoding(data_enc)\n",
    "\n",
    "for col in data_object_cols:\n",
    "    data_enc[col] = data_enc[col]/data.shape[0]\n",
    "results['Frequency_encoding'] = evaluate_encoding(data_enc)\n",
    "\n",
    "pd.DataFrame(results)"
   ]
  },
  {
   "cell_type": "code",
   "execution_count": 151,
   "metadata": {},
   "outputs": [],
   "source": [
    "price_data=data.copy(deep=True)\n",
    "price_data[data_object_cols]= OrdinalEncoder().fit_transform(price_data[data_object_cols])\n",
    "X_train, X_test, y_train, y_test = train_test_split(price_data.drop('Price', axis=1), price_data.Price, \\\n",
    "                                                    test_size=0.33, random_state=42)\n",
    "scaler = StandardScaler()\n",
    "X_train = scaler.fit_transform(X_train)\n",
    "X_test = scaler.transform(X_test)"
   ]
  },
  {
   "cell_type": "code",
   "execution_count": 152,
   "metadata": {},
   "outputs": [],
   "source": [
    "def check_regressor(data,col,model):\n",
    "    answers={}\n",
    "    price_data=data.copy(deep=True)\n",
    "    price_data[data_object_cols]= OrdinalEncoder().fit_transform(price_data[data_object_cols])\n",
    "    X_train, X_test, answers[\"y_train\"], answers[\"y_test\"] = train_test_split(price_data.drop(col, axis=1), price_data[col], \\\n",
    "                                                        test_size=0.33, random_state=42)\n",
    "    scaler = StandardScaler()\n",
    "    X_train = scaler.fit_transform(X_train)\n",
    "    X_test = scaler.transform(X_test)\n",
    "\n",
    "    model.fit(X_train, answers[\"y_train\"])\n",
    "    \n",
    "    answers[\"y_test_pred\"] = model.predict(X_test)\n",
    "    answers[\"y_train_pred\"] = model.predict(X_train)\n",
    "    return answers\n",
    "    \n",
    "\n"
   ]
  },
  {
   "cell_type": "code",
   "execution_count": 153,
   "metadata": {},
   "outputs": [],
   "source": [
    "def print_mse_rmse(answers):\n",
    "    errors={}\n",
    "    errors[\"Test MSE \"]=mean_squared_error(answers[\"y_test\"], answers[\"y_test_pred\"])\n",
    "    print(\"Test MSE = %.4f\" % errors[\"Test MSE \"])\n",
    "    errors[\"Train MSE\"]=mean_squared_error(answers[\"y_train\"], answers[\"y_train_pred\"])\n",
    "    print(\"Train MSE = %.4f\" % errors[\"Train MSE\"])\n",
    "    errors[\"Test RMSE\"]=mean_squared_error(answers[\"y_test\"], answers[\"y_test_pred\"],squared=False)\n",
    "    print(\"Test RMSE = %.4f\" % errors[\"Test RMSE\"])\n",
    "    errors[\"Train RMSE\"]=mean_squared_error(answers[\"y_train\"], answers[\"y_train_pred\"],squared=False)\n",
    "    print(\"Train RMSE = %.4f\" % errors[\"Train RMSE\"])\n",
    "    errors[\"Train MAE\"]=mean_absolute_error(answers[\"y_train\"], answers[\"y_train_pred\"])\n",
    "    print(\"Train MAE = %.4f\" % errors[\"Train MAE\"])\n",
    "    errors[\"Test MAE\"]=mean_absolute_error(answers[\"y_test\"], answers[\"y_test_pred\"])\n",
    "    print(\"Test MAE = %.4f\" % errors[\"Test MAE\"])\n",
    "    return errors\n",
    "    \n"
   ]
  },
  {
   "cell_type": "code",
   "execution_count": 154,
   "metadata": {},
   "outputs": [
    {
     "name": "stdout",
     "output_type": "stream",
     "text": [
      "Test MSE = 400065795.8990\n",
      "Train MSE = 251311555.6316\n",
      "Test RMSE = 20001.6448\n",
      "Train RMSE = 15852.8091\n",
      "Train MAE = 10138.4685\n",
      "Test MAE = 12151.6186\n"
     ]
    },
    {
     "data": {
      "text/plain": [
       "{'Test MSE ': 400065795.8990325,\n",
       " 'Train MSE': 251311555.63159356,\n",
       " 'Test RMSE': 20001.64482983918,\n",
       " 'Train RMSE': 15852.80907699306,\n",
       " 'Train MAE': 10138.468501400086,\n",
       " 'Test MAE': 12151.618573839925}"
      ]
     },
     "execution_count": 154,
     "metadata": {},
     "output_type": "execute_result"
    }
   ],
   "source": [
    "print_mse_rmse(check_regressor(data,\"Price\",LinearRegression()))"
   ]
  },
  {
   "cell_type": "code",
   "execution_count": 155,
   "metadata": {},
   "outputs": [
    {
     "data": {
      "text/plain": [
       "<AxesSubplot:>"
      ]
     },
     "execution_count": 155,
     "metadata": {},
     "output_type": "execute_result"
    },
    {
     "data": {
      "image/png": "[encoded data removed]",
      "text/plain": [
       "<Figure size 2880x720 with 1 Axes>"
      ]
     },
     "metadata": {},
     "output_type": "display_data"
    }
   ],
   "source": [
    "sns.set(rc={'figure.figsize':(40,10)})\n",
    "sns.boxplot(data=data)"
   ]
  },
  {
   "cell_type": "code",
   "execution_count": 156,
   "metadata": {},
   "outputs": [
    {
     "data": {
      "text/plain": [
       "<AxesSubplot:>"
      ]
     },
     "execution_count": 156,
     "metadata": {},
     "output_type": "execute_result"
    },
    {
     "data": {
      "image/png": "[encoded data removed]",
      "text/plain": [
       "<Figure size 720x720 with 1 Axes>"
      ]
     },
     "metadata": {},
     "output_type": "display_data"
    }
   ],
   "source": [
    "sns.set(rc={'figure.figsize':(10,10)})\n",
    "sns.boxplot(data=data[\"Price\"])"
   ]
  },
  {
   "cell_type": "code",
   "execution_count": 157,
   "metadata": {},
   "outputs": [
    {
     "data": {
      "text/plain": [
       "<AxesSubplot:>"
      ]
     },
     "execution_count": 157,
     "metadata": {},
     "output_type": "execute_result"
    },
    {
     "data": {
      "image/png": "[encoded data removed]",
      "text/plain": [
       "<Figure size 720x720 with 1 Axes>"
      ]
     },
     "metadata": {},
     "output_type": "display_data"
    }
   ],
   "source": [
    "sns.set(rc={'figure.figsize':(10,10)})\n",
    "sns.boxplot(data=data[\"SSD Capacity\"])"
   ]
  },
  {
   "cell_type": "code",
   "execution_count": 158,
   "metadata": {},
   "outputs": [
    {
     "data": {
      "image/png": "[encoded data removed]",
      "text/plain": [
       "<Figure size 720x720 with 1 Axes>"
      ]
     },
     "metadata": {},
     "output_type": "display_data"
    }
   ],
   "source": [
    "sns.distplot(data['Price'], label='Price Density Distribution')\n",
    "plt.axvline(data.Price.quantile(0.95), label='95% quantile', c='red')\n",
    "plt.axvline(data.Price.quantile(0.98), label='98% quantile', c='green')\n",
    "plt.axvline(data.Price.quantile(0.99), label='99% quantile', c='orchid')\n",
    "plt.legend()\n",
    "plt.show()"
   ]
  },
  {
   "cell_type": "code",
   "execution_count": 159,
   "metadata": {},
   "outputs": [
    {
     "data": {
      "text/plain": [
       "(805, 32)"
      ]
     },
     "execution_count": 159,
     "metadata": {},
     "output_type": "execute_result"
    }
   ],
   "source": [
    "data=data.loc[data.Price<data.Price.quantile(0.98)]\n",
    "data.shape"
   ]
  },
  {
   "cell_type": "code",
   "execution_count": 160,
   "metadata": {},
   "outputs": [
    {
     "data": {
      "image/png": "[encoded data removed]",
      "text/plain": [
       "<Figure size 720x720 with 1 Axes>"
      ]
     },
     "metadata": {},
     "output_type": "display_data"
    }
   ],
   "source": [
    "sns.distplot(data[\"SSD Capacity\"], label='Price Density Distribution')\n",
    "plt.axvline(data[\"SSD Capacity\"].quantile(0.95), label='95% quantile', c='red')\n",
    "plt.axvline(data[\"SSD Capacity\"].quantile(0.98), label='98% quantile', c='green')\n",
    "plt.axvline(data[\"SSD Capacity\"].quantile(0.99), label='99% quantile', c='orchid')\n",
    "plt.legend()\n",
    "plt.show()"
   ]
  },
  {
   "cell_type": "code",
   "execution_count": 161,
   "metadata": {},
   "outputs": [
    {
     "name": "stdout",
     "output_type": "stream",
     "text": [
      "Test MSE = 132352470.5110\n",
      "Train MSE = 159523837.0224\n",
      "Test RMSE = 11504.4544\n",
      "Train RMSE = 12630.2746\n",
      "Train MAE = 8845.2539\n",
      "Test MAE = 8826.7935\n"
     ]
    },
    {
     "data": {
      "text/plain": [
       "{'Test MSE ': 132352470.51102643,\n",
       " 'Train MSE': 159523837.0223874,\n",
       " 'Test RMSE': 11504.454376937067,\n",
       " 'Train RMSE': 12630.274621811965,\n",
       " 'Train MAE': 8845.253942882637,\n",
       " 'Test MAE': 8826.793462062009}"
      ]
     },
     "execution_count": 161,
     "metadata": {},
     "output_type": "execute_result"
    }
   ],
   "source": [
    "print_mse_rmse(check_regressor(data,\"Price\",LinearRegression()))"
   ]
  },
  {
   "cell_type": "code",
   "execution_count": 162,
   "metadata": {},
   "outputs": [
    {
     "data": {
      "image/png": "[encoded data removed]",
      "text/plain": [
       "<Figure size 720x504 with 1 Axes>"
      ]
     },
     "metadata": {},
     "output_type": "display_data"
    },
    {
     "data": {
      "image/png": "[encoded data removed]",
      "text/plain": [
       "<Figure size 720x504 with 1 Axes>"
      ]
     },
     "metadata": {},
     "output_type": "display_data"
    }
   ],
   "source": [
    "from scipy import stats\n",
    "from scipy.stats import norm\n",
    "\n",
    "plt.figure(figsize=(10,7))\n",
    "sns.distplot(data.Price, fit=norm)\n",
    "\n",
    "# фитим распределение\n",
    "(mu, sigma) = norm.fit(data.Price)\n",
    "\n",
    "plt.legend(['Normal dist. ($\\mu=$ {:.2f} and $\\sigma=$ {:.2f} )'.format(mu, sigma)], loc='best')\n",
    "plt.ylabel('Frequency')\n",
    "plt.title('Price Density Distribution')\n",
    "\n",
    "plt.figure(figsize=(10,7))\n",
    "stats.probplot(data['Price'], plot=plt)\n",
    "plt.show()"
   ]
  },
  {
   "cell_type": "code",
   "execution_count": 163,
   "metadata": {},
   "outputs": [
    {
     "data": {
      "image/png": "[encoded data removed]",
      "text/plain": [
       "<Figure size 720x504 with 1 Axes>"
      ]
     },
     "metadata": {},
     "output_type": "display_data"
    },
    {
     "data": {
      "image/png": "[encoded data removed]",
      "text/plain": [
       "<Figure size 720x504 with 1 Axes>"
      ]
     },
     "metadata": {},
     "output_type": "display_data"
    }
   ],
   "source": [
    "# берем логарифм от цены\n",
    "data['LogPrice'] = np.log1p(data.Price)\n",
    "\n",
    "plt.figure(figsize=(10,7))\n",
    "sns.distplot(data.LogPrice, fit=norm)\n",
    "\n",
    "# фитим распределение на логарифм от цены\n",
    "(mu, sigma) = norm.fit(data.LogPrice)\n",
    "\n",
    "plt.legend(['Normal dist. ($\\mu=$ {:.2f} and $\\sigma=$ {:.2f} )'.format(mu, sigma)], loc='best')\n",
    "plt.ylabel('Frequency')\n",
    "plt.title('Log of Price Density Distribution')\n",
    "\n",
    "plt.figure(figsize=(10,7))\n",
    "stats.probplot(data.LogPrice, plot=plt)\n",
    "plt.show()"
   ]
  },
  {
   "cell_type": "code",
   "execution_count": 164,
   "metadata": {},
   "outputs": [],
   "source": [
    "def deLogAnswer(answers):\n",
    "    answers[\"y_test\"]=np.expm1(answers[\"y_test\"])\n",
    "    answers[\"y_train\"]=np.expm1(answers[\"y_train\"])\n",
    "    answers[\"y_test_pred\"]=np.expm1(answers[\"y_test_pred\"])\n",
    "    answers[\"y_train_pred\"]=np.expm1(answers[\"y_train_pred\"])\n",
    "\n",
    "    return answers"
   ]
  },
  {
   "cell_type": "code",
   "execution_count": 165,
   "metadata": {},
   "outputs": [],
   "source": [
    "log_price_data=data.copy(deep=True)\n",
    "log_price_data=log_price_data.drop(\"Price\",axis=1)\n",
    "data=data.drop(\"LogPrice\",axis=1)"
   ]
  },
  {
   "cell_type": "code",
   "execution_count": 166,
   "metadata": {},
   "outputs": [],
   "source": [
    "regressions={}"
   ]
  },
  {
   "cell_type": "code",
   "execution_count": 167,
   "metadata": {},
   "outputs": [
    {
     "name": "stdout",
     "output_type": "stream",
     "text": [
      "Test MSE = 132352470.5110\n",
      "Train MSE = 159523837.0224\n",
      "Test RMSE = 11504.4544\n",
      "Train RMSE = 12630.2746\n",
      "Train MAE = 8845.2539\n",
      "Test MAE = 8826.7935\n"
     ]
    }
   ],
   "source": [
    "regressions[\"LinearRegression\"]=print_mse_rmse(check_regressor(data,\"Price\",LinearRegression()))"
   ]
  },
  {
   "cell_type": "code",
   "execution_count": 168,
   "metadata": {},
   "outputs": [
    {
     "name": "stdout",
     "output_type": "stream",
     "text": [
      "Test MSE = 173614879.8353\n",
      "Train MSE = 192730846.9899\n",
      "Test RMSE = 13176.2999\n",
      "Train RMSE = 13882.7536\n",
      "Train MAE = 9006.2194\n",
      "Test MAE = 9378.1307\n"
     ]
    }
   ],
   "source": [
    "answ=check_regressor(log_price_data,\"LogPrice\",LinearRegression())\n",
    "regressions[\"Log_LinearRegression\"]=print_mse_rmse(deLogAnswer(answ))"
   ]
  },
  {
   "cell_type": "code",
   "execution_count": 169,
   "metadata": {},
   "outputs": [
    {
     "name": "stdout",
     "output_type": "stream",
     "text": [
      "Test MSE = 143086372.8596\n",
      "Train MSE = 168455315.7788\n",
      "Test RMSE = 11961.8716\n",
      "Train RMSE = 12979.0337\n",
      "Train MAE = 8980.8948\n",
      "Test MAE = 9117.0379\n"
     ]
    }
   ],
   "source": [
    "regressions[\"Ridge\"]=print_mse_rmse(check_regressor(data,\"Price\",Ridge(alpha = 100)))"
   ]
  },
  {
   "cell_type": "code",
   "execution_count": 170,
   "metadata": {},
   "outputs": [
    {
     "name": "stdout",
     "output_type": "stream",
     "text": [
      "Test MSE = 163763569.7234\n",
      "Train MSE = 191924272.6812\n",
      "Test RMSE = 12797.0141\n",
      "Train RMSE = 13853.6736\n",
      "Train MAE = 8834.6648\n",
      "Test MAE = 9080.3825\n"
     ]
    }
   ],
   "source": [
    "answ=check_regressor(log_price_data,\"LogPrice\",Ridge(alpha = 100))\n",
    "regressions[\"Log_Ridge\"]=print_mse_rmse(deLogAnswer(answ))"
   ]
  },
  {
   "cell_type": "code",
   "execution_count": 171,
   "metadata": {},
   "outputs": [
    {
     "name": "stdout",
     "output_type": "stream",
     "text": [
      "Test MSE = 132224335.6972\n",
      "Train MSE = 160259866.3074\n",
      "Test RMSE = 11498.8841\n",
      "Train RMSE = 12659.3786\n",
      "Train MAE = 8840.6569\n",
      "Test MAE = 8814.4873\n"
     ]
    }
   ],
   "source": [
    "regressions[\"Lasso\"]=print_mse_rmse(check_regressor(data,\"Price\",Lasso(alpha = 100)))"
   ]
  },
  {
   "cell_type": "code",
   "execution_count": 172,
   "metadata": {},
   "outputs": [
    {
     "name": "stdout",
     "output_type": "stream",
     "text": [
      "Test MSE = 912177397.7161\n",
      "Train MSE = 895213650.9027\n",
      "Test RMSE = 30202.2747\n",
      "Train RMSE = 29920.1212\n",
      "Train MAE = 21881.4583\n",
      "Test MAE = 21831.0296\n"
     ]
    }
   ],
   "source": [
    "answ=check_regressor(log_price_data,\"LogPrice\",Lasso(alpha = 100))\n",
    "regressions[\"Log_Lasso\"]=print_mse_rmse(deLogAnswer(answ))"
   ]
  },
  {
   "cell_type": "code",
   "execution_count": 173,
   "metadata": {},
   "outputs": [
    {
     "name": "stdout",
     "output_type": "stream",
     "text": [
      "Test MSE = 145674576.9187\n",
      "Train MSE = 171576787.0157\n",
      "Test RMSE = 12069.5724\n",
      "Train RMSE = 13098.7323\n",
      "Train MAE = 9030.8146\n",
      "Test MAE = 9183.2668\n"
     ]
    }
   ],
   "source": [
    "regressions[\"ElasticNet\"]=print_mse_rmse(check_regressor(data,\"Price\",ElasticNet(alpha = 0.5,  l1_ratio= 0.5)))"
   ]
  },
  {
   "cell_type": "code",
   "execution_count": 174,
   "metadata": {},
   "outputs": [
    {
     "name": "stdout",
     "output_type": "stream",
     "text": [
      "Test MSE = 785220965.6902\n",
      "Train MSE = 766894963.8863\n",
      "Test RMSE = 28021.7945\n",
      "Train RMSE = 27692.8685\n",
      "Train MAE = 20012.8166\n",
      "Test MAE = 19931.0043\n"
     ]
    }
   ],
   "source": [
    "answ=check_regressor(log_price_data,\"LogPrice\",ElasticNet(alpha = 0.5,  l1_ratio= 0.5))\n",
    "regressions[\"Log_ElasticNet\"]=print_mse_rmse(deLogAnswer(answ))"
   ]
  },
  {
   "cell_type": "code",
   "execution_count": 175,
   "metadata": {},
   "outputs": [
    {
     "name": "stdout",
     "output_type": "stream",
     "text": [
      "Test MSE = 91067117.5823\n",
      "Train MSE = 19175660.3394\n",
      "Test RMSE = 9542.9093\n",
      "Train RMSE = 4379.0022\n",
      "Train MAE = 3300.0487\n",
      "Test MAE = 6333.5689\n"
     ]
    }
   ],
   "source": [
    "regressions[\"GradientBoostingRegressor\"]=print_mse_rmse(check_regressor(data,\"Price\",GradientBoostingRegressor(n_estimators=200, max_depth=3)))"
   ]
  },
  {
   "cell_type": "code",
   "execution_count": 176,
   "metadata": {},
   "outputs": [
    {
     "name": "stdout",
     "output_type": "stream",
     "text": [
      "Test MSE = 76519915.0839\n",
      "Train MSE = 21080665.5486\n",
      "Test RMSE = 8747.5662\n",
      "Train RMSE = 4591.3686\n",
      "Train MAE = 3222.2049\n",
      "Test MAE = 5887.2508\n"
     ]
    }
   ],
   "source": [
    "answ=check_regressor(log_price_data,\"LogPrice\",GradientBoostingRegressor(n_estimators=200, max_depth=3))\n",
    "regressions[\"Log_GradientBoostingRegressor\"]=print_mse_rmse(deLogAnswer(answ))"
   ]
  },
  {
   "cell_type": "code",
   "execution_count": 177,
   "metadata": {},
   "outputs": [
    {
     "name": "stdout",
     "output_type": "stream",
     "text": [
      "Test MSE = 78372726.5364\n",
      "Train MSE = 39226109.1144\n",
      "Test RMSE = 8852.8372\n",
      "Train RMSE = 6263.0751\n",
      "Train MAE = 4386.3073\n",
      "Test MAE = 6339.4159\n"
     ]
    }
   ],
   "source": [
    "regressions[\"LGBMRegressor\"]=print_mse_rmse(check_regressor(data,\"Price\",LGBMRegressor(n_estimators=200, max_depth=3)))"
   ]
  },
  {
   "cell_type": "code",
   "execution_count": 178,
   "metadata": {},
   "outputs": [
    {
     "name": "stdout",
     "output_type": "stream",
     "text": [
      "Test MSE = 71517963.2232\n",
      "Train MSE = 41808698.8545\n",
      "Test RMSE = 8456.8294\n",
      "Train RMSE = 6465.9646\n",
      "Train MAE = 4267.5242\n",
      "Test MAE = 5912.8258\n"
     ]
    }
   ],
   "source": [
    "answ=check_regressor(log_price_data,\"LogPrice\",LGBMRegressor(n_estimators=200, max_depth=3))\n",
    "regressions[\"Log_LGBMRegressor\"]=print_mse_rmse(deLogAnswer(answ))"
   ]
  },
  {
   "cell_type": "code",
   "execution_count": 179,
   "metadata": {},
   "outputs": [
    {
     "name": "stdout",
     "output_type": "stream",
     "text": [
      "Test MSE = 82555952.3533\n",
      "Train MSE = 38874816.2807\n",
      "Test RMSE = 9086.0306\n",
      "Train RMSE = 6234.9672\n",
      "Train MAE = 4748.9935\n",
      "Test MAE = 6407.8621\n"
     ]
    }
   ],
   "source": [
    "regressions[\"CatBoostRegressor\"]=print_mse_rmse(check_regressor(data,\"Price\",CatBoostRegressor(iterations=200, logging_level='Silent', max_depth = 3)))"
   ]
  },
  {
   "cell_type": "code",
   "execution_count": 180,
   "metadata": {},
   "outputs": [
    {
     "name": "stdout",
     "output_type": "stream",
     "text": [
      "Test MSE = 72279382.2804\n",
      "Train MSE = 44267034.0821\n",
      "Test RMSE = 8501.7282\n",
      "Train RMSE = 6653.3476\n",
      "Train MAE = 4700.6440\n",
      "Test MAE = 6130.2156\n"
     ]
    }
   ],
   "source": [
    "answ=check_regressor(log_price_data,\"LogPrice\",CatBoostRegressor(iterations=200, logging_level='Silent', max_depth = 3))\n",
    "regressions[\"Log_CatBoostRegressor\"]=print_mse_rmse(deLogAnswer(answ))"
   ]
  },
  {
   "cell_type": "code",
   "execution_count": 181,
   "metadata": {},
   "outputs": [
    {
     "data": {
      "text/html": [
       "<div>\n",
       "<style scoped>\n",
       "    .dataframe tbody tr th:only-of-type {\n",
       "        vertical-align: middle;\n",
       "    }\n",
       "\n",
       "    .dataframe tbody tr th {\n",
       "        vertical-align: top;\n",
       "    }\n",
       "\n",
       "    .dataframe thead th {\n",
       "        text-align: right;\n",
       "    }\n",
       "</style>\n",
       "<table border=\"1\" class=\"dataframe\">\n",
       "  <thead>\n",
       "    <tr style=\"text-align: right;\">\n",
       "      <th></th>\n",
       "      <th>LinearRegression</th>\n",
       "      <th>Log_LinearRegression</th>\n",
       "      <th>Ridge</th>\n",
       "      <th>Log_Ridge</th>\n",
       "      <th>Lasso</th>\n",
       "      <th>Log_Lasso</th>\n",
       "      <th>ElasticNet</th>\n",
       "      <th>Log_ElasticNet</th>\n",
       "      <th>GradientBoostingRegressor</th>\n",
       "      <th>Log_GradientBoostingRegressor</th>\n",
       "      <th>LGBMRegressor</th>\n",
       "      <th>Log_LGBMRegressor</th>\n",
       "      <th>CatBoostRegressor</th>\n",
       "      <th>Log_CatBoostRegressor</th>\n",
       "    </tr>\n",
       "  </thead>\n",
       "  <tbody>\n",
       "    <tr>\n",
       "      <th>Test MSE</th>\n",
       "      <td>132,352,470.51</td>\n",
       "      <td>173,614,879.84</td>\n",
       "      <td>143,086,372.86</td>\n",
       "      <td>163,763,569.72</td>\n",
       "      <td>132,224,335.70</td>\n",
       "      <td>912,177,397.72</td>\n",
       "      <td>145,674,576.92</td>\n",
       "      <td>785,220,965.69</td>\n",
       "      <td>91,067,117.58</td>\n",
       "      <td>76,519,915.08</td>\n",
       "      <td>78,372,726.54</td>\n",
       "      <td>71,517,963.22</td>\n",
       "      <td>82,555,952.35</td>\n",
       "      <td>72,279,382.28</td>\n",
       "    </tr>\n",
       "    <tr>\n",
       "      <th>Train MSE</th>\n",
       "      <td>159,523,837.02</td>\n",
       "      <td>192,730,846.99</td>\n",
       "      <td>168,455,315.78</td>\n",
       "      <td>191,924,272.68</td>\n",
       "      <td>160,259,866.31</td>\n",
       "      <td>895,213,650.90</td>\n",
       "      <td>171,576,787.02</td>\n",
       "      <td>766,894,963.89</td>\n",
       "      <td>19,175,660.34</td>\n",
       "      <td>21,080,665.55</td>\n",
       "      <td>39,226,109.11</td>\n",
       "      <td>41,808,698.85</td>\n",
       "      <td>38,874,816.28</td>\n",
       "      <td>44,267,034.08</td>\n",
       "    </tr>\n",
       "    <tr>\n",
       "      <th>Test RMSE</th>\n",
       "      <td>11,504.45</td>\n",
       "      <td>13,176.30</td>\n",
       "      <td>11,961.87</td>\n",
       "      <td>12,797.01</td>\n",
       "      <td>11,498.88</td>\n",
       "      <td>30,202.27</td>\n",
       "      <td>12,069.57</td>\n",
       "      <td>28,021.79</td>\n",
       "      <td>9,542.91</td>\n",
       "      <td>8,747.57</td>\n",
       "      <td>8,852.84</td>\n",
       "      <td>8,456.83</td>\n",
       "      <td>9,086.03</td>\n",
       "      <td>8,501.73</td>\n",
       "    </tr>\n",
       "    <tr>\n",
       "      <th>Train RMSE</th>\n",
       "      <td>12,630.27</td>\n",
       "      <td>13,882.75</td>\n",
       "      <td>12,979.03</td>\n",
       "      <td>13,853.67</td>\n",
       "      <td>12,659.38</td>\n",
       "      <td>29,920.12</td>\n",
       "      <td>13,098.73</td>\n",
       "      <td>27,692.87</td>\n",
       "      <td>4,379.00</td>\n",
       "      <td>4,591.37</td>\n",
       "      <td>6,263.08</td>\n",
       "      <td>6,465.96</td>\n",
       "      <td>6,234.97</td>\n",
       "      <td>6,653.35</td>\n",
       "    </tr>\n",
       "    <tr>\n",
       "      <th>Train MAE</th>\n",
       "      <td>8,845.25</td>\n",
       "      <td>9,006.22</td>\n",
       "      <td>8,980.89</td>\n",
       "      <td>8,834.66</td>\n",
       "      <td>8,840.66</td>\n",
       "      <td>21,881.46</td>\n",
       "      <td>9,030.81</td>\n",
       "      <td>20,012.82</td>\n",
       "      <td>3,300.05</td>\n",
       "      <td>3,222.20</td>\n",
       "      <td>4,386.31</td>\n",
       "      <td>4,267.52</td>\n",
       "      <td>4,748.99</td>\n",
       "      <td>4,700.64</td>\n",
       "    </tr>\n",
       "    <tr>\n",
       "      <th>Test MAE</th>\n",
       "      <td>8,826.79</td>\n",
       "      <td>9,378.13</td>\n",
       "      <td>9,117.04</td>\n",
       "      <td>9,080.38</td>\n",
       "      <td>8,814.49</td>\n",
       "      <td>21,831.03</td>\n",
       "      <td>9,183.27</td>\n",
       "      <td>19,931.00</td>\n",
       "      <td>6,333.57</td>\n",
       "      <td>5,887.25</td>\n",
       "      <td>6,339.42</td>\n",
       "      <td>5,912.83</td>\n",
       "      <td>6,407.86</td>\n",
       "      <td>6,130.22</td>\n",
       "    </tr>\n",
       "  </tbody>\n",
       "</table>\n",
       "</div>"
      ],
      "text/plain": [
       "            LinearRegression  Log_LinearRegression          Ridge  \\\n",
       "Test MSE      132,352,470.51        173,614,879.84 143,086,372.86   \n",
       "Train MSE     159,523,837.02        192,730,846.99 168,455,315.78   \n",
       "Test RMSE          11,504.45             13,176.30      11,961.87   \n",
       "Train RMSE         12,630.27             13,882.75      12,979.03   \n",
       "Train MAE           8,845.25              9,006.22       8,980.89   \n",
       "Test MAE            8,826.79              9,378.13       9,117.04   \n",
       "\n",
       "                Log_Ridge          Lasso      Log_Lasso     ElasticNet  \\\n",
       "Test MSE   163,763,569.72 132,224,335.70 912,177,397.72 145,674,576.92   \n",
       "Train MSE  191,924,272.68 160,259,866.31 895,213,650.90 171,576,787.02   \n",
       "Test RMSE       12,797.01      11,498.88      30,202.27      12,069.57   \n",
       "Train RMSE      13,853.67      12,659.38      29,920.12      13,098.73   \n",
       "Train MAE        8,834.66       8,840.66      21,881.46       9,030.81   \n",
       "Test MAE         9,080.38       8,814.49      21,831.03       9,183.27   \n",
       "\n",
       "            Log_ElasticNet  GradientBoostingRegressor  \\\n",
       "Test MSE    785,220,965.69              91,067,117.58   \n",
       "Train MSE   766,894,963.89              19,175,660.34   \n",
       "Test RMSE        28,021.79                   9,542.91   \n",
       "Train RMSE       27,692.87                   4,379.00   \n",
       "Train MAE        20,012.82                   3,300.05   \n",
       "Test MAE         19,931.00                   6,333.57   \n",
       "\n",
       "            Log_GradientBoostingRegressor  LGBMRegressor  Log_LGBMRegressor  \\\n",
       "Test MSE                    76,519,915.08  78,372,726.54      71,517,963.22   \n",
       "Train MSE                   21,080,665.55  39,226,109.11      41,808,698.85   \n",
       "Test RMSE                        8,747.57       8,852.84           8,456.83   \n",
       "Train RMSE                       4,591.37       6,263.08           6,465.96   \n",
       "Train MAE                        3,222.20       4,386.31           4,267.52   \n",
       "Test MAE                         5,887.25       6,339.42           5,912.83   \n",
       "\n",
       "            CatBoostRegressor  Log_CatBoostRegressor  \n",
       "Test MSE        82,555,952.35          72,279,382.28  \n",
       "Train MSE       38,874,816.28          44,267,034.08  \n",
       "Test RMSE            9,086.03               8,501.73  \n",
       "Train RMSE           6,234.97               6,653.35  \n",
       "Train MAE            4,748.99               4,700.64  \n",
       "Test MAE             6,407.86               6,130.22  "
      ]
     },
     "execution_count": 181,
     "metadata": {},
     "output_type": "execute_result"
    }
   ],
   "source": [
    "regressionsPD=pd.DataFrame(regressions)\n",
    "regressionsPD"
   ]
  },
  {
   "cell_type": "code",
   "execution_count": 182,
   "metadata": {},
   "outputs": [],
   "source": [
    "data_object_cols=[]\n",
    "for col in data.columns:\n",
    "    if data[col].dtype==object and col!=\"Vendor\":\n",
    "        data_object_cols.append(col)\n",
    "enc=OrdinalEncoder()\n",
    "data_vendor[data_object_cols]= enc.fit_transform(data_vendor[data_object_cols])"
   ]
  },
  {
   "cell_type": "code",
   "execution_count": 183,
   "metadata": {},
   "outputs": [],
   "source": [
    "def check_classifier(data,col,model):\n",
    "    answers={}\n",
    "    vendor_data=data.copy(deep=True)\n",
    "    vendor_data[data_object_cols]= OrdinalEncoder().fit_transform(vendor_data[data_object_cols])\n",
    "    X_train, X_test, answers[\"y_train\"], answers[\"y_test\"] = train_test_split(vendor_data.drop(col, axis=1), vendor_data[col], \\\n",
    "                                                        test_size=0.33, random_state=42)\n",
    "    scaler = StandardScaler()\n",
    "    X_train = scaler.fit_transform(X_train)\n",
    "    X_test = scaler.transform(X_test)\n",
    "\n",
    "    model.fit(X_train, answers[\"y_train\"])\n",
    "    \n",
    "    answers[\"y_test_pred\"] = model.predict(X_test)\n",
    "    answers[\"y_train_pred\"] = model.predict(X_train)\n",
    "    return answers\n",
    "    "
   ]
  },
  {
   "cell_type": "code",
   "execution_count": 184,
   "metadata": {},
   "outputs": [],
   "source": [
    "\n",
    "\n",
    "\n",
    "from sklearn.neighbors import KNeighborsClassifier\n",
    "from sklearn.ensemble import GradientBoostingClassifier\n",
    "from lightgbm import LGBMClassifier\n",
    "from catboost import CatBoostClassifier\n",
    "from sklearn.metrics import accuracy_score, precision_score, recall_score, f1_score,roc_auc_score\n"
   ]
  },
  {
   "cell_type": "code",
   "execution_count": 185,
   "metadata": {},
   "outputs": [
    {
     "data": {
      "image/png": "[encoded data removed]",
      "text/plain": [
       "<Figure size 1152x1152 with 3 Axes>"
      ]
     },
     "metadata": {},
     "output_type": "display_data"
    }
   ],
   "source": [
    "X_train_v, X_test_v, y_train, y_test = train_test_split(\n",
    "    data_vendor.drop(['Vendor'], axis=1), data_vendor['Vendor'], test_size=0.30, random_state=42, stratify=data_vendor['Vendor']\n",
    ")\n",
    "scaler = StandardScaler()\n",
    "X_train_scaled = scaler.fit_transform(X_train_v)\n",
    "X_test_scaled = scaler.transform(X_test_v)\n",
    "neighbors = range(1, 10)\n",
    "f1_score_train = []\n",
    "f1_score_test = []\n",
    "accuracy_score_train = []\n",
    "accuracy_score_test = []\n",
    "recall_score_train = []\n",
    "recall_score_test = []\n",
    "for k in neighbors:\n",
    "    knn = KNeighborsClassifier(n_neighbors=k)\n",
    "    knn.fit(X_train_scaled, y_train)\n",
    "    f1_score_train.append(f1_score(knn.predict(X_train_scaled), y_train,average='weighted'))\n",
    "    f1_score_test.append(f1_score(knn.predict(X_test_scaled), y_test,average='weighted'))\n",
    "    accuracy_score_train.append(accuracy_score(knn.predict(X_train_scaled), y_train))\n",
    "    accuracy_score_test.append(accuracy_score(knn.predict(X_test_scaled), y_test))\n",
    "    recall_score_train.append(recall_score(knn.predict(X_train_scaled), y_train,average='weighted'))\n",
    "    recall_score_test.append(recall_score(knn.predict(X_test_scaled), y_test,average='weighted'))\n",
    "fig, axs = plt.subplots(3, 1, figsize=(16, 16))\n",
    "axs[0].set_title(\"Max test quality(accuracy_score): {:.3f}\\nBest k: {}\".format(max(accuracy_score_test), np.argmax(accuracy_score_test)+1))\n",
    "axs[0].plot(neighbors, accuracy_score_train, color='green', label='train')\n",
    "axs[0].plot(neighbors, accuracy_score_test, color='yellow', label='test')\n",
    "axs[0].legend()\n",
    "\n",
    "axs[1].set_title(\"Max test quality(recall_score): {:.3f}\\nBest k: {}\".format(max(recall_score_test), np.argmax(recall_score_test)+1))\n",
    "axs[1].plot(neighbors, recall_score_train, color='green', label='train')\n",
    "axs[1].plot(neighbors, recall_score_test, color='yellow', label='test')\n",
    "axs[1].legend();  \n",
    "\n",
    "axs[2].set_title(\"Max test quality(f1_score): {:.3f}\\nBest k: {}\".format(max(f1_score_test), np.argmax(f1_score_test)+1))\n",
    "axs[2].plot(neighbors, f1_score_train, color='green', label='train')\n",
    "axs[2].plot(neighbors, f1_score_test, color='yellow', label='test')\n",
    "axs[2].legend();  "
   ]
  },
  {
   "cell_type": "code",
   "execution_count": 186,
   "metadata": {},
   "outputs": [],
   "source": [
    "def print_classifier(answers):\n",
    "    metrics={}\n",
    "    metrics[\"f1_score_train\"]=f1_score(answers[\"y_train\"], answers[\"y_train_pred\"],average='weighted')\n",
    "    print(metrics[\"f1_score_train\"])\n",
    "    metrics[\"f1_score_test\"]=f1_score(answers[\"y_test\"], answers[\"y_test_pred\"],average='weighted')\n",
    "    print(metrics[\"f1_score_test\"])\n",
    "    metrics[\"accuracy_score_train\"]=accuracy_score(answers[\"y_train\"], answers[\"y_train_pred\"])\n",
    "    print(metrics[\"accuracy_score_train\"])\n",
    "    metrics[\"accuracy_score_test\"]=accuracy_score(answers[\"y_test\"], answers[\"y_test_pred\"])\n",
    "    print(metrics[\"accuracy_score_test\"])\n",
    "    metrics[\"recall_score_train\"]=recall_score(answers[\"y_train\"], answers[\"y_train_pred\"],average='weighted')\n",
    "    print(metrics[\"recall_score_train\"])\n",
    "    metrics[\"recall_score_test\"]=recall_score(answers[\"y_test\"], answers[\"y_test_pred\"],average='weighted')\n",
    "    print(metrics[\"recall_score_test\"])\n",
    "    return metrics"
   ]
  },
  {
   "cell_type": "code",
   "execution_count": 187,
   "metadata": {},
   "outputs": [],
   "source": [
    "classifications={}"
   ]
  },
  {
   "cell_type": "code",
   "execution_count": 188,
   "metadata": {},
   "outputs": [
    {
     "name": "stdout",
     "output_type": "stream",
     "text": [
      "1.0\n",
      "0.7892911799665414\n",
      "1.0\n",
      "0.7977941176470589\n",
      "1.0\n",
      "0.7977941176470589\n"
     ]
    }
   ],
   "source": [
    "\n",
    "classifications[\"KNeighborsClassifier\"]=print_classifier(check_classifier(data_vendor,\"Vendor\",KNeighborsClassifier(n_neighbors=1)))"
   ]
  },
  {
   "cell_type": "code",
   "execution_count": 189,
   "metadata": {},
   "outputs": [
    {
     "name": "stdout",
     "output_type": "stream",
     "text": [
      "1.0\n",
      "0.8849867333324322\n",
      "1.0\n",
      "0.8860294117647058\n",
      "1.0\n",
      "0.8860294117647058\n"
     ]
    }
   ],
   "source": [
    "classifications[\"GradientBoostingClassifier\"]=print_classifier(check_classifier(data_vendor,\"Vendor\",GradientBoostingClassifier(n_estimators=200, max_depth=3)))"
   ]
  },
  {
   "cell_type": "code",
   "execution_count": 190,
   "metadata": {},
   "outputs": [
    {
     "name": "stdout",
     "output_type": "stream",
     "text": [
      "1.0\n",
      "0.8876308083508267\n",
      "1.0\n",
      "0.8933823529411765\n",
      "1.0\n",
      "0.8933823529411765\n"
     ]
    }
   ],
   "source": [
    "classifications[\"GradientBoostingClassifier\"]=print_classifier(check_classifier(data_vendor,\"Vendor\",LGBMClassifier(n_estimators=200, max_depth=3)))"
   ]
  },
  {
   "cell_type": "code",
   "execution_count": 191,
   "metadata": {},
   "outputs": [
    {
     "name": "stdout",
     "output_type": "stream",
     "text": [
      "0.98909611626071\n",
      "0.8491409374480895\n",
      "0.9891107078039928\n",
      "0.8566176470588235\n",
      "0.9891107078039928\n",
      "0.8566176470588235\n"
     ]
    }
   ],
   "source": [
    "classifications[\"CatBoostClassifier\"]=print_classifier(check_classifier(data_vendor,\"Vendor\",CatBoostClassifier(iterations=200, logging_level='Silent', max_depth = 3)))"
   ]
  },
  {
   "cell_type": "code",
   "execution_count": 193,
   "metadata": {},
   "outputs": [
    {
     "data": {
      "text/html": [
       "<div>\n",
       "<style scoped>\n",
       "    .dataframe tbody tr th:only-of-type {\n",
       "        vertical-align: middle;\n",
       "    }\n",
       "\n",
       "    .dataframe tbody tr th {\n",
       "        vertical-align: top;\n",
       "    }\n",
       "\n",
       "    .dataframe thead th {\n",
       "        text-align: right;\n",
       "    }\n",
       "</style>\n",
       "<table border=\"1\" class=\"dataframe\">\n",
       "  <thead>\n",
       "    <tr style=\"text-align: right;\">\n",
       "      <th></th>\n",
       "      <th>KNeighborsClassifier</th>\n",
       "      <th>GradientBoostingClassifier</th>\n",
       "      <th>CatBoostClassifier</th>\n",
       "    </tr>\n",
       "  </thead>\n",
       "  <tbody>\n",
       "    <tr>\n",
       "      <th>f1_score_train</th>\n",
       "      <td>1.00</td>\n",
       "      <td>1.00</td>\n",
       "      <td>0.99</td>\n",
       "    </tr>\n",
       "    <tr>\n",
       "      <th>f1_score_test</th>\n",
       "      <td>0.79</td>\n",
       "      <td>0.89</td>\n",
       "      <td>0.85</td>\n",
       "    </tr>\n",
       "    <tr>\n",
       "      <th>accuracy_score_train</th>\n",
       "      <td>1.00</td>\n",
       "      <td>1.00</td>\n",
       "      <td>0.99</td>\n",
       "    </tr>\n",
       "    <tr>\n",
       "      <th>accuracy_score_test</th>\n",
       "      <td>0.80</td>\n",
       "      <td>0.89</td>\n",
       "      <td>0.86</td>\n",
       "    </tr>\n",
       "    <tr>\n",
       "      <th>recall_score_train</th>\n",
       "      <td>1.00</td>\n",
       "      <td>1.00</td>\n",
       "      <td>0.99</td>\n",
       "    </tr>\n",
       "    <tr>\n",
       "      <th>recall_score_test</th>\n",
       "      <td>0.80</td>\n",
       "      <td>0.89</td>\n",
       "      <td>0.86</td>\n",
       "    </tr>\n",
       "  </tbody>\n",
       "</table>\n",
       "</div>"
      ],
      "text/plain": [
       "                      KNeighborsClassifier  GradientBoostingClassifier  \\\n",
       "f1_score_train                        1.00                        1.00   \n",
       "f1_score_test                         0.79                        0.89   \n",
       "accuracy_score_train                  1.00                        1.00   \n",
       "accuracy_score_test                   0.80                        0.89   \n",
       "recall_score_train                    1.00                        1.00   \n",
       "recall_score_test                     0.80                        0.89   \n",
       "\n",
       "                      CatBoostClassifier  \n",
       "f1_score_train                      0.99  \n",
       "f1_score_test                       0.85  \n",
       "accuracy_score_train                0.99  \n",
       "accuracy_score_test                 0.86  \n",
       "recall_score_train                  0.99  \n",
       "recall_score_test                   0.86  "
      ]
     },
     "execution_count": 193,
     "metadata": {},
     "output_type": "execute_result"
    }
   ],
   "source": [
    "classificationsPD=pd.DataFrame(classifications)\n",
    "classificationsPD"
   ]
  }
 ],
 "metadata": {
  "kernelspec": {
   "display_name": "Python 3.10.4 ('.venv': venv)",
   "language": "python",
   "name": "python3"
  },
  "language_info": {
   "codemirror_mode": {
    "name": "ipython",
    "version": 3
   },
   "file_extension": ".py",
   "mimetype": "text/x-python",
   "name": "python",
   "nbconvert_exporter": "python",
   "pygments_lexer": "ipython3",
   "version": "3.10.4"
  },
  "orig_nbformat": 4,
  "vscode": {
   "interpreter": {
    "hash": "ab0fd173032adfd88bb7b9275c898beb4878ff6044359e2c00fb0657c31b4091"
   }
  }
 },
 "nbformat": 4,
 "nbformat_minor": 2
}
